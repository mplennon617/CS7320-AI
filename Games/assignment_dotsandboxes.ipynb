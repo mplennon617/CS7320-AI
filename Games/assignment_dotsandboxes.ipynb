{
 "cells": [
  {
   "cell_type": "markdown",
   "metadata": {},
   "source": [
    "# Adversarial Search: Playing Dots and Boxes\n",
    "\n",
    "\n",
    "## Instructions\n",
    "\n",
    "Total Points: Undegraduates 100, graduate students 110\n",
    "\n",
    "Complete this notebook and submit it. The notebook needs to be a complete project report with your implementation, documentation including a short discussion of how your implementation works and your design choices, and experimental results (e.g., tables and charts with simulation results) with a short discussion of what they mean. Use the provided notebook cells and insert additional code and markdown cells as needed.\n",
    "\n",
    "## Introduction\n",
    "\n",
    "You will implement different versions of agents that play the game Dots and Boxes:\n",
    "\n",
    "> \"Dots and Boxes is a pencil-and-paper game for two players. The game starts with an empty grid of dots. Usually two players take turns adding a single horizontal or vertical line between two unjoined adjacent dots. A player who completes the fourth side of a 1x1 box earns one point and takes another turn. A point is typically recorded by placing a mark that identifies the player in the box, such as an initial. The game ends when no more lines can be placed. The winner is the player with the most points. The board may be of any size grid.\" (see [Dots and Boxes on Wikipedia](https://en.wikipedia.org/wiki/Dots_and_Boxes))\n",
    "\n",
    "You can play Dots and Boxes [here](https://www.math.ucla.edu/~tom/Games/dots&boxes.html)."
   ]
  },
  {
   "cell_type": "markdown",
   "metadata": {},
   "source": [
    "## Task 1: Defining the Search Problem [10 point]\n",
    "\n",
    "Define the components of the search problem associated with this game:\n",
    "\n",
    "* Initial state\n",
    "* Actions\n",
    "* Transition model\n",
    "* Test for the terminal state\n",
    "* Utility for terminal states"
   ]
  },
  {
   "cell_type": "markdown",
   "metadata": {},
   "source": [
    "### Answer:\n",
    "* Initial state: Empty board containing an 2D array of dots of size $m*n$. No lines are connected and no boxes are formed. It is player Max's turn.\n",
    "* Actions: Place one line on available edge between two dots \n",
    "* Transition model: f(prev_state): action x prev_state = {all instances of prev_state with one additional line placed on a previously available edge (and potentially an additional box filled)} Swap turns IFF no new box was formed.\n",
    "* Test for the terminal state: Player Max or Player Min has formed more than $\\lfloor\\frac{(m-1)(n-1)}{2}\\rfloor+1$ boxes OR every possible line on the board has been filled by a player.\n",
    "* Utility for terminal states: $Boxes(Max) - Boxes(Min)$, where $Boxes(p)$ is the number of boxes owned by player $p$."
   ]
  },
  {
   "cell_type": "markdown",
   "metadata": {},
   "source": [
    "How big is the state space? Give an estimate and explain it."
   ]
  },
  {
   "cell_type": "markdown",
   "metadata": {},
   "source": [
    "### Answer:\n",
    "\n",
    "State Space Estimation: $|lines|$ * $|boxes|$, where $lines$ is the possible line configurations, and $boxes$ is the possible box configurations.\n",
    "\n",
    "possible line configurations for board size n x m:\n",
    "- ($|{empty, occupied}|^{(n-1)(m))+(n)(m-1))}$) -- Horizontal and vertical (2) orientatations -- $(n-1)*m$ horizontal lines can be placed, and $n*(m-1)$ vertical lines can be placed. Order of the lines matters (e.g. we must treat all boards with one line on it as separate states), so we perform a permutation calculation.\n",
    "\n",
    "- e.g. for board size 5 x 3: # line configurations would be 2^22.\n",
    "\n",
    "possible box configurations for board size n x m: \n",
    "- ($|{no initial, your box, opponent box}|^{(n-1)(m-1)}$) -- This is also a permutation calculation (same reasoning as above). 2 rows of $n$ dots allows $n-1$ boxes, and 2 rows of $m$ dots allows $m-1$ boxes.\n",
    "\n",
    "- Full estimation: $2^{(n-1)(m))+(n)(m-1))} * 3^{(n-1)(m-1)}$. The line estimation is an accurate permutation. However, the fact that boxes are only possible based on specific configurations of lines (i.e. two horizontal lines adjacent to two vertical lines) forces the box estimation to be an upper bound."
   ]
  },
  {
   "cell_type": "markdown",
   "metadata": {},
   "source": [
    "How big is the game tree that minimax search will go through? Give an estimate and explain it.\n",
    "\n",
    "### Answer:\n",
    "\n",
    "Depth $d$: Will be at most the number of possible places to place lines -- $(n-1)(m))+(n)(m-1))$.\n",
    "Branching factor $b$: For given level $l$, $b$ is $(n-1)(m))+(n)(m-1))$ subtracted by $l$ (i.e. number of possible line positions minus the number of lines placed already).\n",
    "\n",
    "Since we need to traverse all nodes, The game tree is in $O(b^d)$. Therefore the game tree is: $((n-1)(m))+(n)(m-1))-l)^{(n-1)(m))+(n)(m-1))}$."
   ]
  },
  {
   "cell_type": "markdown",
   "metadata": {},
   "source": [
    "## Task 2: Game Environment and Random Agent [30 point]\n",
    "\n",
    "You need to think about a data structure to represent the board meaning he placed lines and who finished what box. There are many options. Let's represent the board using a simple dictionary where `n` and `m` represents the number of dots horizontaly and vertically, respectively. Everybody needs to use the same representation so we can let agents play against each other later. "
   ]
  },
  {
   "cell_type": "code",
   "execution_count": 161,
   "metadata": {},
   "outputs": [
    {
     "name": "stdout",
     "output_type": "stream",
     "text": [
      "True\n",
      "True\n",
      "False\n"
     ]
    },
    {
     "data": {
      "text/plain": [
       "{'n': 4, 'm': 4, ('h', 1, 1): True, ('v', 1, 1): True}"
      ]
     },
     "execution_count": 161,
     "metadata": {},
     "output_type": "execute_result"
    }
   ],
   "source": [
    "import numpy as np\n",
    "\n",
    "def empty_board(m = 4,n = 4):\n",
    "    return {\n",
    "    'n': n,  ### hoizontal dots\n",
    "    'm': m   ### vertical dots\n",
    "    }\n",
    "\n",
    "board = {\n",
    "    'n': 4,  ### hoizontal dots\n",
    "    'm': 4   ### vertical dots\n",
    "}\n",
    "\n",
    "def draw_line(board, orientation, row, col):\n",
    "    \"\"\"\n",
    "    Place a line on an exiting board.\n",
    "       \n",
    "    Parameters\n",
    "    ----------\n",
    "    board: dict\n",
    "        the board\n",
    "    orientation: str\n",
    "        either 'h' or 'v' for horizontal or vertical\n",
    "    row, col: int\n",
    "        index of the starting dot for the line (starting with 0)\n",
    "    \n",
    "    \"\"\"\n",
    "    \n",
    "    if orientation not in ['h', 'v']:\n",
    "        return False\n",
    "        \n",
    "    if row < 0 or col < 0:\n",
    "        return False\n",
    "        \n",
    "    if row >= board['n'] + (orientation == 'v') or col >= board['m'] + (orientation == 'h'):\n",
    "        return False\n",
    "        \n",
    "    if (orientation, row, col) in board:\n",
    "        return False\n",
    "            \n",
    "    board[(orientation, row, col)] = True\n",
    "    return True\n",
    "    \n",
    "\n",
    "print(draw_line(board, \"h\", 1, 1))\n",
    "print(draw_line(board, \"v\", 1, 1))\n",
    "\n",
    "# this hould not work\n",
    "print(draw_line(board, \"h\", 1, 1))\n",
    "\n",
    "board"
   ]
  },
  {
   "cell_type": "markdown",
   "metadata": {},
   "source": [
    "Write code to display the board. **Bonus point: Post your visualization code with an example output to the discussion board. The best visualization will earn you bonus participation points in this class.**"
   ]
  },
  {
   "cell_type": "code",
   "execution_count": 162,
   "metadata": {
    "scrolled": true
   },
   "outputs": [],
   "source": [
    "# CODE ADOPTED AND MODIFIED FROM EDWARD JIANG'S DISCUSSION BOARD POST\n",
    "# CODE ADOPTED AND MODIFIED FROM EDWARD JIANG'S DISCUSSION BOARD POST\n",
    "\n",
    "import matplotlib.pyplot as plt\n",
    "import matplotlib.lines as mlines\n",
    "\n",
    "def show_board(board, show_results=False):\n",
    "    n = board['n']  # Rows\n",
    "    m = board['m']  # Columns\n",
    "   \n",
    "    fig, ax = plt.subplots()\n",
    "    ax.set_xlim(-0.5, m-0.5)\n",
    "    ax.set_ylim(-0.5, n-0.5)\n",
    "   \n",
    "    # Draw dots\n",
    "    for row in range(n):\n",
    "        for col in range(m):\n",
    "            if (row, col) in board:\n",
    "                ax.scatter(col, row, s=100, marker='o', color='black')\n",
    "            else:\n",
    "                ax.scatter(col, row, s=100, marker='o', color='black')\n",
    "     \n",
    "    # Draw lines\n",
    "    for line in board:\n",
    "        # print(line)\n",
    "        if line != 'n' and line != 'm' and line != -1 and line != 1:\n",
    "            # print(line)\n",
    "            if len(line) > 2:\n",
    "                # Draw Horizontal line\n",
    "                if line[0] == 'h':\n",
    "                    #print(\"for line ('h'\",line[1],line[2],\"), plot line from X=\",line[2]+1,\"to\",line[2]+2,\"and Y=\",n-line[1],\"to\",n-line[1])\n",
    "                    #l = mlines.Line2D([line[2]+1,line[2]+2], [n-line[1],n-line[1]], color='black')\n",
    "                    l = mlines.Line2D([line[2],line[2]+1], [n-line[1]-1,n-line[1]-1], color='black')\n",
    "                    ax.add_line(l)\n",
    "                # Draw Vertical line\n",
    "                elif line[0] == 'v':\n",
    "                    #print(\"for line ('v'\",line[1],line[2],\"), plot line from X=\",line[2]+1,\"to\",line[2]+1,\"and Y=\",n-line[1],\"to\",n-line[1]-1)                    \n",
    "                    #l = mlines.Line2D([line[2]+1,line[2]+1], [n-line[1],n-line[1]-1], color='black')\n",
    "                    l = mlines.Line2D([line[2],line[2]], [n-line[1]-2,n-line[1]-1], color='black')\n",
    "                    ax.add_line(l)\n",
    "   \n",
    "    # Check for boxes\n",
    "    # Boxes are stored in board with (row, col) as key and player (1 or -1) as value\n",
    "    # eg: board[(3, 1)] = 1 -> player 1 has a box with top left vertex at (3, 1)\n",
    "    for box in board:\n",
    "        if box != 'n' and box != 'm' and box != -1 and box != 1:\n",
    "            if len(box) == 2:\n",
    "                if board[(box[0], box[1])] == 1:\n",
    "                    ax.add_patch(plt.Rectangle((box[1], n - box[0] - 1), 1, -1, color='b'))\n",
    "                    #print(\"blue box at point (\",box[1],\",\",n - box[0] - 1,\")\")\n",
    "                else:\n",
    "                    ax.add_patch(plt.Rectangle((box[1], n - box[0] - 1), 1, -1, color='r'))\n",
    "                    #print(\"red box at point (\",box[1],\",\",n - box[0] - 1,\")\")\n",
    "   \n",
    "    # Print results  \n",
    "    if (show_results):\n",
    "        print('Results:')\n",
    "        print('         -1:', board[-1])\n",
    "        print('          1:', board[1])\n",
    "   \n",
    "    # Set up plot to start at (1, 1)\n",
    "    x = []\n",
    "    y = []\n",
    "    for row in range(board['n']):\n",
    "        # x.append(row)\n",
    "        x.append(row+1)\n",
    "    for col in range(board['m']):\n",
    "        # y.append(col)\n",
    "        y.append(col+1)\n",
    "    default_x_ticks = range(len(x))\n",
    "    plt.xticks(default_x_ticks, x)\n",
    "    default_y_ticks = range(len(y))\n",
    "    plt.yticks(default_y_ticks, y)\n",
    "   \n",
    "    plt.show()"
   ]
  },
  {
   "cell_type": "markdown",
   "metadata": {},
   "source": [
    "Implement helper functions for:\n",
    "\n",
    "* The transition model $result(s, a)$.\n",
    "* The utility function $utility(s)$.\n",
    "* Check for terminal states $terminal(s)$.\n",
    "* A check for available actions in each state $actions(s)$.\n",
    "\n",
    "__Notes:__\n",
    "* Make sure that all these functions work with boards of different sizes (number of columns and rows as stored in the board).\n",
    "* The result function evaluates if the player closed a box and needs to store that information on the board. Add elements of the form `(row,col): player` to the board dictionary. `row` and `col` are the coordinates for the box and `player` is +1 or -1 representing the player. For example `(0,0): -1` means that the top-left box belongs to the other player. "
   ]
  },
  {
   "cell_type": "markdown",
   "metadata": {},
   "source": [
    "The following are helper functions for checking for terminal states, and are used throughout the program.\n",
    "\n",
    "They return lines (tuples of size 3) or boxes (tuples of size 2) from the given board `board`."
   ]
  },
  {
   "cell_type": "code",
   "execution_count": 163,
   "metadata": {},
   "outputs": [],
   "source": [
    "# Helper function to return all the boxes in a board owned by a player.\n",
    "# Each box is a tuple of the form: (Box location, owner)\n",
    "def get_boxes(board):\n",
    "\n",
    "    boxes = []\n",
    "    for key in board.keys():\n",
    "        if (isinstance(key,tuple) and len(key) == 2):\n",
    "            boxes.append(key)\n",
    "\n",
    "    return boxes\n",
    "\n",
    "# Helper function to return all the lines in the board.\n",
    "def get_lines(board):\n",
    "    lines = []\n",
    "    for key in board.keys():\n",
    "        if (isinstance(key,tuple) and len(key) == 3):\n",
    "            lines.append(key)\n",
    "\n",
    "    return lines"
   ]
  },
  {
   "cell_type": "markdown",
   "metadata": {},
   "source": [
    "This result function updates the `board` dictionary by placing a line, then checking if that line formed a box. Only two box locations will be checked based on the provided `orientation` variable (`'h'` or `'v'`). If a box is detected, log it in `board` for the given player `player`.\n",
    "\n",
    "DEBUG functionality is implemented to check whether boxes were successfully added to the dictionary."
   ]
  },
  {
   "cell_type": "code",
   "execution_count": 164,
   "metadata": {},
   "outputs": [],
   "source": [
    "# Referencing this paper as I go:\n",
    "# https://www.aaai.org/ocs/index.php/AAAI/AAAI12/paper/viewFile/5126/5218#:~:text=Dots%2DAnd%2DBoxes%20is%20impartial,pieces%20of%20a%20certain%20color.\n",
    "\n",
    "def result(board,orientation,row,col,player, DEBUG = 0):\n",
    "    \"\"\"\n",
    "    Evaluates the state of the board, detecting and filling any unfilled boxes.\n",
    "    Only searches for unfilled boxes based on the most recent line placed \n",
    "    (determined by params orientation, row, and col).\n",
    "       \n",
    "    Parameters\n",
    "    ----------\n",
    "    board: dict\n",
    "        the board\n",
    "    orientation: str\n",
    "        either 'h' or 'v' for horizontal or vertical\n",
    "    row, col: int\n",
    "        index of the starting dot for the line (starting with 0)\n",
    "    player\n",
    "        whether player max (1) or player min (-1) placed the line\n",
    "    \n",
    "    \"\"\"\n",
    "\n",
    "    new_board = board.copy()\n",
    "\n",
    "    # Place the line.\n",
    "    new_board[(orientation,row,col)] = True\n",
    "\n",
    "    # Check if boxes are formed, and place them.\n",
    "    if (orientation == 'h'):\n",
    "        # Horizontal case -- check if a box formed above (if possible)\n",
    "        if (row > 0):\n",
    "            if (('h',row-1,col) in new_board and \n",
    "                ('v',row-1,col) in new_board and\n",
    "                ('v',row-1,col+1) in new_board ):\n",
    "                \n",
    "                if DEBUG >= 1: print(\"new box added above -- (\",row-1,\",\",col,\")\")\n",
    "                new_board[(row-1,col)] = player\n",
    "        # Horizontal case -- check if a box formed below (if possible)\n",
    "        if (row < new_board['n'] - 1):\n",
    "            if (('h',row+1,col) in new_board and \n",
    "            ('v',row,col) in new_board and\n",
    "            ('v',row,col+1) in new_board):\n",
    "\n",
    "                if DEBUG >= 1: print(\"new box added below -- (\",row,\",\",col,\")\")          \n",
    "                new_board[(row,col)] = player\n",
    "\n",
    "    elif (orientation == 'v'):\n",
    "        # Vertical case -- check if a box formed to the left (if possible)\n",
    "        if (col > 0):\n",
    "            if (('v',row,col-1) in new_board and \n",
    "            ('h',row,col-1) in new_board and\n",
    "            ('h',row+1,col-1) in new_board):\n",
    "                \n",
    "                if DEBUG >= 1: print(\"new box added left -- (\",row,\",\",col-1,\")\")   \n",
    "                new_board[(row,col-1)] = player\n",
    "\n",
    "        # Vertical case -- check if a box formed to the right (if possible)\n",
    "        if (row < new_board['m'] - 1):\n",
    "            if (('v',row,col+1) in new_board and \n",
    "            ('h',row,col) in new_board and\n",
    "            ('h',row+1,col) in new_board):\n",
    "\n",
    "                if DEBUG >= 1: print(\"new box added right -- (\",row,\",\",col,\")\")                  \n",
    "                new_board[(row,col)] = player\n",
    "\n",
    "    #print(\"BOARD UPDATED\")\n",
    "    #show_board(board)\n",
    "\n",
    "    return new_board"
   ]
  },
  {
   "cell_type": "markdown",
   "metadata": {},
   "source": [
    "$Utility = Boxes(Max)-Boxes(Min)$.\n",
    "\n",
    "Given a board, this function calculates and returns $Utility$."
   ]
  },
  {
   "cell_type": "code",
   "execution_count": 165,
   "metadata": {},
   "outputs": [],
   "source": [
    "# Utility: Ratio of boxes Max owns to boxes Min owns.\n",
    "def utility(board):\n",
    "\n",
    "    DEBUG = 0\n",
    "\n",
    "    utility = 0\n",
    "\n",
    "    # Who owns what box?\n",
    "    # Calculate utility by calculating Max - Min.\n",
    "    for box in get_boxes(board):\n",
    "        if DEBUG >= 2: print(box,\"belongs to\",board[box])\n",
    "        if (board[box] == 1):\n",
    "            if DEBUG >= 2: print(\"+\",end='')\n",
    "            utility += 1\n",
    "        elif (board[box] == -1):\n",
    "            if DEBUG >= 2: print(\"-\",end='')\n",
    "            utility -= 1\n",
    "\n",
    "    if DEBUG >= 1: print(\"Utility calculated for a board: \",utility)\n",
    "\n",
    "    # TODO: WE WANT TO ADD SOME REGULARIZATION TO THIS FUNCTION.\n",
    "    return utility"
   ]
  },
  {
   "cell_type": "markdown",
   "metadata": {},
   "source": [
    "Helper functions `check_win` and `check_board_full` are used to check for terminal nodes (in the `terminal` function), and stop playtime in the `play` function.\n",
    "\n",
    "Node that the `terminal` function is used to specify leaf nodes in the Minimax Search game tree."
   ]
  },
  {
   "cell_type": "code",
   "execution_count": 166,
   "metadata": {},
   "outputs": [],
   "source": [
    "def check_win(board):\n",
    "    \"\"\"\n",
    "    Helper function to check whether a player has placed enough boxes to guarantee a win \n",
    "    (i.e. guarantee ownership of more boxes than the other)\n",
    "    \"\"\"\n",
    "    boxes = get_boxes(board)\n",
    "\n",
    "    win_threshold = (board['m']-1)*(board['n']-1)//2 + 1\n",
    "\n",
    "    # At any point, if it's determined that max or min has obtained 'win_threshold' boxes\n",
    "    # Then return that player as the winner.\n",
    "    # Otherwise, return 0 (No winner yet).\n",
    "    min_cnt = 0\n",
    "    max_cnt = 0\n",
    "    for box in boxes:\n",
    "        if board[box] == 1:\n",
    "            max_cnt += 1\n",
    "        elif board[box] == -1:\n",
    "            min_cnt += 1\n",
    "        \n",
    "        if max_cnt >= win_threshold:\n",
    "            return 1\n",
    "        if min_cnt >= win_threshold:\n",
    "            return -1\n",
    "\n",
    "\n",
    "    return 0\n",
    "    \n",
    "def check_board_full(board):\n",
    "    \"\"\"\n",
    "    Helper function to check whether the board is completely filled with\n",
    "    lines (i.e. whether there are no more possible moves to make).\n",
    "    \"\"\"\n",
    "\n",
    "    m = board['m']\n",
    "    n = board['n']\n",
    "    \n",
    "    return len(get_lines(board)) >= m*(n-1) + n*(m-1)\n",
    "\n",
    "def terminal(board):\n",
    "    \"\"\"\n",
    "    Terminal function -- checks whether a given board state is a terminal\n",
    "    node.\n",
    "    \"\"\"\n",
    "    return check_win(board) or check_board_full(board)"
   ]
  },
  {
   "cell_type": "markdown",
   "metadata": {},
   "source": [
    "Action function -- The agent can choose among any location from `board` that doesn't have a line placed already."
   ]
  },
  {
   "cell_type": "code",
   "execution_count": 167,
   "metadata": {},
   "outputs": [],
   "source": [
    "def actions(board):\n",
    "    \"\"\"\n",
    "    Actions function -- returns positions of all possible lines the player can place.\n",
    "    \"\"\"\n",
    "    res = []\n",
    "    for i in range(board['n']):\n",
    "        for j in range(board['m']):\n",
    "            if (i == board['n']-1 and j == board['m']-1):\n",
    "                continue\n",
    "            if (('h',i,j) not in board and j != board['m']-1):\n",
    "                res.append(('h',i,j))\n",
    "            if (('v',i,j) not in board and i != board['n']-1):\n",
    "                res.append(('v',i,j))\n",
    "\n",
    "    return res"
   ]
  },
  {
   "cell_type": "markdown",
   "metadata": {},
   "source": [
    "Implement an agent that plays randomly. Make sure the agent function receives as the percept the board and returns a valid action. Use an agent function definition with the following signature (arguments):\n",
    "\n",
    "`def random_player(board, player = None): ...`\n",
    "\n",
    "The argument `player` is used for agents that do not store what side they are playing. The value passed on by the environment should be 1 ot -1 for playerred and yellow, respectively.  See [Experiments section for tic-tac-toe](https://nbviewer.org/github/mhahsler/CS7320-AI/blob/master/Games/tictactoe_and_or_tree_search.ipynb#Experiments) for an example."
   ]
  },
  {
   "cell_type": "code",
   "execution_count": 168,
   "metadata": {},
   "outputs": [],
   "source": [
    "# Random player agent function.\n",
    "# Adopted and modified from tictactoe_interactive.ipynb.\n",
    "def random_player(board, player=None, order_fun = None):\n",
    "    possible_actions = actions(board)\n",
    "    return possible_actions[np.random.choice(len(possible_actions),1)[0]]"
   ]
  },
  {
   "cell_type": "markdown",
   "metadata": {},
   "source": [
    "Let two random agents play against each other 1000 times. Look at the [Experiments section for tic-tac-toe](https://nbviewer.org/github/mhahsler/CS7320-AI/blob/master/Games/tictactoe_and_or_tree_search.ipynb#Experiments) to see how the environment uses the agent functions to play against each other.\n",
    "\n",
    "How often does each player win? Is the result expected?"
   ]
  },
  {
   "cell_type": "markdown",
   "metadata": {},
   "source": [
    "The play function simulates `N` games from a given `start_board`. The function also handles the following:\n",
    "\n",
    "- Allowing two different agent functions to alternate performing actions on a single common board. This consists of:\n",
    "- Turn handling.\n",
    "- Handling successive turns (if one player fills a box, they can take another turn).\n",
    "- Stopping playtime when a given player wins or a draw occurs."
   ]
  },
  {
   "cell_type": "code",
   "execution_count": 194,
   "metadata": {
    "tags": []
   },
   "outputs": [],
   "source": [
    "# Given a player and one of its agent functions, return the other player's signature and its agent function.\n",
    "def switch_player(player, pfun1, pfun2):\n",
    "    if player == 1:\n",
    "        return -1, pfun2\n",
    "    elif player == -1:\n",
    "        return 1, pfun1\n",
    "\n",
    "# Your code/ answer goes here.\n",
    "def play(pfun1, pfun2, N = 1, show_final_board = False, start_board = empty_board(), print_moves = False):\n",
    "    \"\"\"Let two agents play each other N times. red starts. red and blue are agent functions that \n",
    "    get the board as the percept and return their next action.\n",
    "    \n",
    "    Code Adopted and modified from tictactoe_interactive.ipynb.\n",
    "    \"\"\"\n",
    "    results = {1: 0, -1: 0, 0: 0}\n",
    "    \n",
    "    # Skip flag. If one player forms a box, the other player's turn is skipped.\n",
    "    skip = False\n",
    "\n",
    "    for i in range(N):\n",
    "        board = start_board.copy()\n",
    "        player, fun = 1, pfun1\n",
    "        \n",
    "        while True:\n",
    "            action = fun(board, player)\n",
    "\n",
    "            if print_moves: print(\"Player\",player,\"placed line (\",action[0],action[1],action[2],\")\")\n",
    "            # Update the board, and note whether the player's move created a new box.\n",
    "            boxes_before = len(get_boxes(board))\n",
    "            board = result(board, action[0], action[1], action[2], player)\n",
    "            boxes_after = len(get_boxes(board))\n",
    "\n",
    "            if boxes_before - boxes_after != 0:\n",
    "                skip = True\n",
    "                if print_moves: print(\"Player\",player,\"filled a box! Player\",other(player),\"'s turn skipped\")\n",
    "\n",
    "            # Did the player win?\n",
    "            win = check_win(board)   # returns the 'n' if the game is not done.\n",
    "            if win != 0:\n",
    "                results[win] += 1\n",
    "                if show_final_board: \n",
    "                    print(\"Final board:\")\n",
    "                    show_board(board)\n",
    "                break\n",
    "\n",
    "            # Also end the game if the board is full.\n",
    "            if check_board_full(board):\n",
    "                results[0] += 1\n",
    "                break\n",
    "            \n",
    "            # We only switch players if the other player was not skipped.\n",
    "            if skip == False:\n",
    "                player, fun = switch_player(player, pfun1, pfun2)\n",
    "            else:\n",
    "                skip = False\n",
    "    \n",
    "    return results"
   ]
  },
  {
   "cell_type": "code",
   "execution_count": 170,
   "metadata": {},
   "outputs": [
    {
     "name": "stdout",
     "output_type": "stream",
     "text": [
      "Final board:\n"
     ]
    },
    {
     "data": {
      "image/png": "[encoded data removed]",
      "text/plain": [
       "<Figure size 432x288 with 1 Axes>"
      ]
     },
     "metadata": {
      "needs_background": "light"
     },
     "output_type": "display_data"
    },
    {
     "name": "stdout",
     "output_type": "stream",
     "text": [
      "Final board:\n"
     ]
    },
    {
     "data": {
      "image/png": "[encoded data removed]",
      "text/plain": [
       "<Figure size 432x288 with 1 Axes>"
      ]
     },
     "metadata": {
      "needs_background": "light"
     },
     "output_type": "display_data"
    },
    {
     "name": "stdout",
     "output_type": "stream",
     "text": [
      "Final board:\n"
     ]
    },
    {
     "data": {
      "image/png": "[encoded data removed]",
      "text/plain": [
       "<Figure size 432x288 with 1 Axes>"
      ]
     },
     "metadata": {
      "needs_background": "light"
     },
     "output_type": "display_data"
    },
    {
     "name": "stdout",
     "output_type": "stream",
     "text": [
      "Final board:\n"
     ]
    },
    {
     "data": {
      "image/png": "[encoded data removed]",
      "text/plain": [
       "<Figure size 432x288 with 1 Axes>"
      ]
     },
     "metadata": {
      "needs_background": "light"
     },
     "output_type": "display_data"
    },
    {
     "name": "stdout",
     "output_type": "stream",
     "text": [
      "Final board:\n"
     ]
    },
    {
     "data": {
      "image/png": "[encoded data removed]",
      "text/plain": [
       "<Figure size 432x288 with 1 Axes>"
      ]
     },
     "metadata": {
      "needs_background": "light"
     },
     "output_type": "display_data"
    },
    {
     "name": "stdout",
     "output_type": "stream",
     "text": [
      "Blue (1) Wins: 3\n",
      "Red (-1) Wins: 2\n"
     ]
    }
   ],
   "source": [
    "# Demo: Play 5 games and display the final boards.\n",
    "results = play(random_player, random_player, N = 5,show_final_board=True)\n",
    "print(\"Blue (1) Wins:\",results[1])\n",
    "print(\"Red (-1) Wins:\",results[-1])"
   ]
  },
  {
   "cell_type": "markdown",
   "metadata": {},
   "source": [
    "We then let the agents play 1000 times and display the results."
   ]
  },
  {
   "cell_type": "code",
   "execution_count": 171,
   "metadata": {},
   "outputs": [
    {
     "name": "stdout",
     "output_type": "stream",
     "text": [
      "Blue (1) Wins: 503\n",
      "Red (-1) Wins: 497\n",
      "Draws: 0\n"
     ]
    }
   ],
   "source": [
    "# Run the random agents 1000 times and display the results.\n",
    "results = play(random_player, random_player, N = 1000,show_final_board=False)\n",
    "print(\"Blue (1) Wins:\",results[1])\n",
    "print(\"Red (-1) Wins:\",results[-1])\n",
    "print(\"Draws:\",results[0])"
   ]
  },
  {
   "cell_type": "markdown",
   "metadata": {},
   "source": [
    "### Observations:\n",
    "\n",
    "The players appear to be evenly matched, meaning that it doesn't really matter which player goes first. These results aren't particularly surprising since the agents are random, and there are enough possible moves such that a player can make a move that drastically decreases its chances of winning, even nearing the end of the game."
   ]
  },
  {
   "cell_type": "markdown",
   "metadata": {},
   "source": [
    "## Task 3: Minimax Search with Alpha-Beta Pruning [30 points]\n",
    "\n",
    "### Implement the search starting.\n",
    "\n",
    "Implement the search starting from a given board and specifying the player and put it into an agent function.\n",
    "You can use code from the [tic-tac-toe example](https://nbviewer.org/github/mhahsler/CS7320-AI/blob/master/Games/tictactoe_alpha_beta_tree_search.ipynb).\n",
    "\n",
    "__Notes:__ \n",
    "* Make sure that all your agent functions have a signature consistent with the random agent above.\n",
    "* The search space for larger board may be too large. You can experiment with smaller boards."
   ]
  },
  {
   "cell_type": "code",
   "execution_count": 172,
   "metadata": {},
   "outputs": [],
   "source": [
    "# Given a player, return the signature of its opponent.\n",
    "def other(player): \n",
    "    if player == -1: return 1\n",
    "    else: return -1"
   ]
  },
  {
   "cell_type": "code",
   "execution_count": 229,
   "metadata": {},
   "outputs": [],
   "source": [
    "import math\n",
    "    \n",
    "# global variables\n",
    "DEBUG = 0 # 1 ... count nodes, 2 ... debug each node\n",
    "COUNT = 0\n",
    "\n",
    "# Implementation of Minimax Search with Alpha Beta Pruning.\n",
    "# Adopted and modified from tictactoe_alpha_beta_tree_search.ipynb.\n",
    "def alpha_beta_search(board, player = 1, order_fun = None, frankensearch = False):\n",
    "    \"\"\"start the search.\"\"\"\n",
    "    global DEBUG, COUNT\n",
    "    COUNT = 0\n",
    "    \n",
    "    value, move = max_value_ab(board, player, -math.inf, +math.inf, order_fun = order_fun, frankensearch = frankensearch)\n",
    "     \n",
    "    if DEBUG >= 1: print(f\"Number of nodes searched: {COUNT}\") \n",
    "    \n",
    "    return { \"move\": move, \"value\": value }\n",
    "\n",
    "def max_value_ab(state, player, alpha, beta, frankensearch = False, order_fun = None):\n",
    "    \"\"\"player's best move.\"\"\"\n",
    "    global DEBUG, COUNT\n",
    "    COUNT += 1\n",
    "       \n",
    "    # return utility if state is a terminal state\n",
    "    v = utility(state)\n",
    "    if DEBUG >= 2: print(\"max: \" + str(state) + str([alpha, beta, v]) ) \n",
    "    if terminal(state): return v, None\n",
    "        \n",
    "    v, move = -math.inf, None\n",
    "\n",
    "    possible_actions = actions(state)\n",
    "    \n",
    "    # Create a move ordering function, if one is supplied.\n",
    "    if order_fun is not None:\n",
    "        order_fun(possible_actions,state)\n",
    "\n",
    "    # Implement FRANKENSEARCH if called for -- look at only the leftmost 3 actions.\n",
    "    if frankensearch:\n",
    "        possible_actions = possible_actions[:2]\n",
    "\n",
    "    # check all possible actions in the state, update alpha and return move with the largest value\n",
    "    for a in possible_actions:\n",
    "        v2, a2 = min_value_ab(result(state, a[0], a[1], a[2], other(player)), player, alpha, beta, order_fun = order_fun, frankensearch = frankensearch)\n",
    "        if v2 > v:\n",
    "            v, move = v2, a\n",
    "            alpha = max(alpha, v)\n",
    "        if v >= beta: return v, move\n",
    "    \n",
    "    return v, move\n",
    "\n",
    "def min_value_ab(state, player, alpha, beta, order_fun = None, frankensearch = False):\n",
    "    \"\"\"opponent's best response.\"\"\"\n",
    "    global DEBUG, COUNT\n",
    "    COUNT += 1\n",
    "    \n",
    "    # return utility if state is a terminal state\n",
    "    v = utility(state)\n",
    "    if DEBUG >= 2: print(\"min: \" + str(state) + str([alpha, beta, v]) ) \n",
    "    if terminal(state): return v, None\n",
    "    \n",
    "    v, move = +math.inf, None\n",
    "\n",
    "    possible_actions = actions(state)\n",
    "    \n",
    "    # Create a move ordering function, if one is supplied.\n",
    "    if order_fun is not None:\n",
    "        order_fun(possible_actions,state)\n",
    "\n",
    "    # Implement FRANKENSEARCH if called for -- look at only the leftmost 3 actions.\n",
    "    if frankensearch:\n",
    "        possible_actions = possible_actions[:2]\n",
    "\n",
    "    # check all possible actions in the state, update alpha and return move with the largest value\n",
    "    for a in possible_actions:\n",
    "        v2, a2 = max_value_ab(result(state, a[0], a[1], a[2], other(player)), player, alpha, beta, order_fun = order_fun, frankensearch = frankensearch)\n",
    "        if v2 < v:\n",
    "            v, move = v2, a\n",
    "            beta = min(beta, v)\n",
    "        if v <= alpha: return v, move\n",
    "    \n",
    "    return v, move"
   ]
  },
  {
   "cell_type": "code",
   "execution_count": 174,
   "metadata": {},
   "outputs": [],
   "source": [
    "# Your code/ answer goes here.\n",
    "def alpha_beta_search_player(board, player=None, order_fun=None):\n",
    "    return alpha_beta_search(board.copy(),player = player, order_fun=order_fun)[\"move\"]"
   ]
  },
  {
   "cell_type": "markdown",
   "metadata": {},
   "source": [
    "Experiment with some manually created boards (at least 5) to check if the agent spots winning opportunities."
   ]
  },
  {
   "cell_type": "markdown",
   "metadata": {},
   "source": [
    "The 5 boards below test for the following:\n",
    "\n",
    "- Board 0: Does the player claim a box when a C shape is available?\n",
    "- Board 1: Does the player prevent a C shape that the opponent can use to fill in a box for themselves?\n",
    "- Board 2: Does the player claim an available box and prevent a C shape on its next turn?\n",
    "- Board 3: Does the player create an L shape (or parallel line) when given an opportunity to do so?\n",
    "- Board 4: Does the player fill two boxes when given the opportunity?"
   ]
  },
  {
   "cell_type": "code",
   "execution_count": 175,
   "metadata": {},
   "outputs": [
    {
     "name": "stdout",
     "output_type": "stream",
     "text": [
      "Player can claim a box and win\n"
     ]
    },
    {
     "data": {
      "image/png": "[encoded data removed]",
      "text/plain": [
       "<Figure size 432x288 with 1 Axes>"
      ]
     },
     "metadata": {
      "needs_background": "light"
     },
     "output_type": "display_data"
    },
    {
     "name": "stdout",
     "output_type": "stream",
     "text": [
      "Player can avoid a C shape for the opponent\n"
     ]
    },
    {
     "data": {
      "image/png": "[encoded data removed]",
      "text/plain": [
       "<Figure size 432x288 with 1 Axes>"
      ]
     },
     "metadata": {
      "needs_background": "light"
     },
     "output_type": "display_data"
    },
    {
     "name": "stdout",
     "output_type": "stream",
     "text": [
      "Player can fill a box and prevent a C shape\n"
     ]
    },
    {
     "data": {
      "image/png": "[encoded data removed]",
      "text/plain": [
       "<Figure size 432x288 with 1 Axes>"
      ]
     },
     "metadata": {
      "needs_background": "light"
     },
     "output_type": "display_data"
    },
    {
     "name": "stdout",
     "output_type": "stream",
     "text": [
      "Player can create an L shape\n"
     ]
    },
    {
     "data": {
      "image/png": "[encoded data removed]",
      "text/plain": [
       "<Figure size 432x288 with 1 Axes>"
      ]
     },
     "metadata": {
      "needs_background": "light"
     },
     "output_type": "display_data"
    },
    {
     "name": "stdout",
     "output_type": "stream",
     "text": [
      "Player can fill two boxes\n"
     ]
    },
    {
     "data": {
      "image/png": "[encoded data removed]",
      "text/plain": [
       "<Figure size 432x288 with 1 Axes>"
      ]
     },
     "metadata": {
      "needs_background": "light"
     },
     "output_type": "display_data"
    }
   ],
   "source": [
    "# Your code/ answer goes here.\n",
    "boards = []\n",
    "for i in range(5):\n",
    "    boards.append({'n': 3,'m': 2})\n",
    "\n",
    "# Define board 0 lines.\n",
    "boards[0]['h',1,0] = True\n",
    "boards[0]['h',2,0] = True\n",
    "boards[0]['v',0,0] = True\n",
    "boards[0]['v',1,0] = True\n",
    "print('Player can claim a box and win')\n",
    "show_board(boards[0])\n",
    "\n",
    "# Define board 1 lines.\n",
    "boards[1]['v',0,0] = True\n",
    "boards[1]['h',1,0] = True\n",
    "print('Player can avoid a C shape for the opponent')\n",
    "show_board(boards[1])\n",
    "\n",
    "# Define board 2 lines.\n",
    "boards[2]['m'] = 3\n",
    "boards[2]['v',0,0] = True\n",
    "boards[2]['v',1,0] = True\n",
    "boards[2]['v',1,1] = True\n",
    "boards[2]['h',0,0] = True\n",
    "boards[2]['h',1,0] = True\n",
    "boards[2]['h',2,0] = True\n",
    "boards[2]['h',2,1] = True\n",
    "# Define board 2 box.\n",
    "boards[2][(1,0)] = -1\n",
    "print('Player can fill a box and prevent a C shape')\n",
    "show_board(boards[2])\n",
    "\n",
    "# Define board 3 lines.\n",
    "boards[3]['m'] = 3\n",
    "boards[3]['h',1,1] = True\n",
    "print('Player can create an L shape')\n",
    "show_board(boards[3])\n",
    "\n",
    "# Define board 4 lines.\n",
    "boards[4]['m'] = 3\n",
    "boards[4]['v',0,0] = True\n",
    "boards[4]['v',1,1] = True\n",
    "boards[4]['v',1,0] = True\n",
    "boards[4]['h',0,0] = True\n",
    "boards[4]['h',2,0] = True\n",
    "print('Player can fill two boxes')\n",
    "show_board(boards[4])"
   ]
  },
  {
   "cell_type": "code",
   "execution_count": 203,
   "metadata": {},
   "outputs": [],
   "source": [
    "def switch_player(player, pfun1, pfun2):\n",
    "    if player == 1:\n",
    "        return -1, pfun2\n",
    "    elif player == -1:\n",
    "        return 1, pfun1\n",
    "\n",
    "# Your code/ answer goes here.\n",
    "def test_move(fun, N = 1, show_res_board = False, start_board = empty_board(), order_fun = None, DEBUG = 0):\n",
    "    \"\"\"Run 'fun' N times on a given start_board. Return the ratio of optimal moves made to total moves made.\n",
    "    \n",
    "    Code Adopted and modified from tictactoe_interactive.ipynb.\n",
    "    \"\"\"\n",
    "\n",
    "    # Counts the number of optimal moves made in each of the N games.\n",
    "    # (We can run this N times if there's a stochastic element in pfun1).\n",
    "    optimal_cnt = 0\n",
    "\n",
    "    for i in range(N):\n",
    "        init_board = start_board.copy()\n",
    "        player = 1\n",
    "        \n",
    "        if DEBUG >= 2: \n",
    "            print(\"For initial board:\")\n",
    "            show_board(init_board)\n",
    "\n",
    "        boxes_before = -2\n",
    "        boxes_after = -1\n",
    "\n",
    "        # If the player's move creates a box, let the player make another move.\n",
    "        while boxes_before - boxes_after != 0:\n",
    "\n",
    "            boxes_before = len(get_boxes(init_board))\n",
    "\n",
    "            # Record the agent's action and utility.\n",
    "            action = fun(init_board, player, order_fun = order_fun)\n",
    "            board_with_move = result(init_board, action[0], action[1], action[2], player)\n",
    "            if DEBUG >= 2: print(\"Made move (\",action[0], action[1], action[2],\")\")\n",
    "            v = utility(board_with_move)\n",
    "\n",
    "            # Note whether the player's move created a new box.\n",
    "            boxes_after = len(get_boxes(board_with_move))\n",
    "\n",
    "            # Enumerate all possible actions and record their utilities, sorted in ascending order.\n",
    "            possible_actions = actions(init_board)\n",
    "\n",
    "            utilities = []\n",
    "\n",
    "            for a in possible_actions:\n",
    "                if DEBUG >= 1: print(\"Can place the line (\",a[0], a[1], a[2],\") with utility\",utility(result(init_board, a[0], a[1], a[2], player)))\n",
    "                utilities.append(utility(result(init_board, a[0], a[1], a[2], player)))\n",
    "            utilities.sort()\n",
    "\n",
    "            # Did the agent make an optimal move?\n",
    "            if v == utilities[-1]:\n",
    "                optimal_cnt += 1\n",
    "\n",
    "            # Update the board in case we make another move on it.\n",
    "            init_board = board_with_move\n",
    "\n",
    "            # Show the move.\n",
    "            if (show_res_board): show_board(board_with_move) \n",
    "\n",
    "    return optimal_cnt / N\n"
   ]
  },
  {
   "cell_type": "markdown",
   "metadata": {},
   "source": [
    "Like the Alpha Beta Tree Search algorithm currently struggles against these test cases and needs tuning. Much of these can be fixed with a better utility function, as 3/5 of these cases were (correctly) flagged as \"optimal\" (since there were no changes in the number of boxes owned by either player).\n",
    "\n",
    "The Search correctly filled in a box and prevented a C shape (Board 2), but failed to:\n",
    "\n",
    "- Fill a box.\n",
    "- Fill two boxes.\n",
    "- Avoid placing a C shape.\n",
    "- Form an L shape or a parallel line."
   ]
  },
  {
   "cell_type": "code",
   "execution_count": 208,
   "metadata": {},
   "outputs": [
    {
     "data": {
      "image/png": "[encoded data removed]",
      "text/plain": [
       "<Figure size 432x288 with 1 Axes>"
      ]
     },
     "metadata": {
      "needs_background": "light"
     },
     "output_type": "display_data"
    },
    {
     "name": "stdout",
     "output_type": "stream",
     "text": [
      "Alpha beta tree search did not perform the optimal move for Board 0\n"
     ]
    },
    {
     "data": {
      "image/png": "[encoded data removed]",
      "text/plain": [
       "<Figure size 432x288 with 1 Axes>"
      ]
     },
     "metadata": {
      "needs_background": "light"
     },
     "output_type": "display_data"
    },
    {
     "name": "stdout",
     "output_type": "stream",
     "text": [
      "Alpha beta tree search performed 1 optimal move(s) for Board 1\n"
     ]
    },
    {
     "data": {
      "image/png": "[encoded data removed]",
      "text/plain": [
       "<Figure size 432x288 with 1 Axes>"
      ]
     },
     "metadata": {
      "needs_background": "light"
     },
     "output_type": "display_data"
    },
    {
     "data": {
      "image/png": "[encoded data removed]",
      "text/plain": [
       "<Figure size 432x288 with 1 Axes>"
      ]
     },
     "metadata": {
      "needs_background": "light"
     },
     "output_type": "display_data"
    },
    {
     "name": "stdout",
     "output_type": "stream",
     "text": [
      "Alpha beta tree search performed 2 optimal move(s) for Board 2\n"
     ]
    },
    {
     "data": {
      "image/png": "[encoded data removed]",
      "text/plain": [
       "<Figure size 432x288 with 1 Axes>"
      ]
     },
     "metadata": {
      "needs_background": "light"
     },
     "output_type": "display_data"
    },
    {
     "name": "stdout",
     "output_type": "stream",
     "text": [
      "Alpha beta tree search performed 1 optimal move(s) for Board 3\n"
     ]
    },
    {
     "data": {
      "image/png": "[encoded data removed]",
      "text/plain": [
       "<Figure size 432x288 with 1 Axes>"
      ]
     },
     "metadata": {
      "needs_background": "light"
     },
     "output_type": "display_data"
    },
    {
     "name": "stdout",
     "output_type": "stream",
     "text": [
      "Alpha beta tree search did not perform the optimal move for Board 4\n"
     ]
    }
   ],
   "source": [
    "# Run the agent on each.\n",
    "for i, curr_board in enumerate(boards):\n",
    "    is_optimal = test_move(alpha_beta_search_player, start_board=curr_board, show_res_board=True)\n",
    "    if (is_optimal >= 0.995):\n",
    "        print(\"Alpha beta tree search performed\",int(is_optimal),\"optimal move(s) for Board\",i)\n",
    "    else:\n",
    "        print(\"Alpha beta tree search did not perform the optimal move for Board\",i)"
   ]
  },
  {
   "cell_type": "markdown",
   "metadata": {},
   "source": [
    "How long does it take to make a move? Start with a smaller board make the board larger. What is the largest board you can solve?"
   ]
  },
  {
   "cell_type": "markdown",
   "metadata": {},
   "source": [
    "Timing data is displayed in the printouts below. Minimax Search with alpha beta pruning can reasonably solve games up to 3x3. When running a board any larger, it takes many minutes to make a single move."
   ]
  },
  {
   "cell_type": "code",
   "execution_count": 222,
   "metadata": {},
   "outputs": [
    {
     "name": "stdout",
     "output_type": "stream",
     "text": [
      "A (2, 2) board took 0.00200 seconds to make a move 10 times.\n",
      "A (2, 3) board took 0.06300 seconds to make a move 10 times.\n",
      "A (3, 3) board took 13.80783 seconds to make a move 10 times.\n"
     ]
    }
   ],
   "source": [
    "import time \n",
    "\n",
    "# Your code/ answer goes here.\n",
    "board_sizes = [(2,2),(2,3),(3,3)]\n",
    "\n",
    "for board_size in board_sizes:\n",
    "    t_i = time.time()\n",
    "    test_move(alpha_beta_search_player,start_board=empty_board(board_size[0],board_size[1]), N=10)\n",
    "    t_f = time.time()\n",
    "    print(\"A %s board took %.5f seconds to make a move 10 times.\" % (board_size,t_f-t_i))"
   ]
  },
  {
   "cell_type": "markdown",
   "metadata": {},
   "source": [
    "### Move ordering\n",
    "\n",
    "Starting the search with better moves will increase the efficiency of alpha-beta pruning. Describe and implement a simple move ordering strategy. Make a table that shows how the ordering strategies influence the time it takes to make a move?"
   ]
  },
  {
   "cell_type": "markdown",
   "metadata": {},
   "source": [
    "Move ordering consistently reduces (3,3) board move placement times by about 25% on average. (13 -> 10 seconds). See table below.\n",
    "\n",
    "Note that two move ordering strategies are introduced. \n",
    "\n",
    "1. Order the moves based on whether the moves add a box.\n",
    "2. Order the moves based on whether the line placements are closer to the center of the screen.\n",
    "\n",
    "For this timing demo, only the second strategy is compared since we test 1 move on an empty board (thus making ordering based on the first strategy \"useless\")."
   ]
  },
  {
   "cell_type": "code",
   "execution_count": 210,
   "metadata": {},
   "outputs": [],
   "source": [
    "# Your code/ answer goes here.\n",
    "# Move ordering strategy -- does my move create a new box?\n",
    "def move_ordering_1(possible_moves, board):\n",
    "\n",
    "    boxes_difference = lambda move: len(get_boxes(result(board, move[0], move[1], move[2], player = 1))) - len(get_boxes(board))\n",
    "\n",
    "    possible_moves.sort(key=boxes_difference)\n",
    "\n",
    "# Move ordering strategy -- is my move as close to the center of the board as possible (rounded down)?\n",
    "# We introduce both ordering functions because both would appear to be effective, but for testing a single move on an empty board,\n",
    "# only move_ordering_2 would produce any actual ordering (Since producing a box on an empty board with 1 move is impossible).\n",
    "def move_ordering_2(possible_moves, board):\n",
    "\n",
    "    n = board['n']\n",
    "    m = board['m']\n",
    "\n",
    "    n_center =  n // 2\n",
    "    m_center = m // 2\n",
    "\n",
    "    pos_difference = lambda move: abs(move[1] - n_center) + abs(move[2] - m_center)\n",
    "\n",
    "    possible_moves.sort(key=pos_difference)\n",
    "    "
   ]
  },
  {
   "cell_type": "code",
   "execution_count": 211,
   "metadata": {},
   "outputs": [
    {
     "name": "stdout",
     "output_type": "stream",
     "text": [
      "A (2, 2) board took 0.00200 seconds to make a move 10 times.\n",
      "A (2, 3) board took 0.06400 seconds to make a move 10 times.\n",
      "A (3, 3) board took 10.61818 seconds to make a move 10 times.\n"
     ]
    }
   ],
   "source": [
    "for board_size in board_sizes:\n",
    "    t_i = time.time()\n",
    "    test_move(alpha_beta_search_player,start_board=empty_board(board_size[0],board_size[1]), order_fun=move_ordering_2, N=10)\n",
    "    t_f = time.time()\n",
    "    print(\"A %s board took %.5f seconds to make a move 10 times.\" % (board_size,t_f-t_i))"
   ]
  },
  {
   "cell_type": "markdown",
   "metadata": {},
   "source": [
    "Time in seconds for Alpha Beta Tree search to make a move (repeated 10 times).\n",
    "No Move Ordering vs Move Ordering (using the Move Ordering 2 strategy) are compared.\n",
    "\n",
    "| Size     | No Move Ordering |  With Move Ordering |\n",
    "|----------|------------------|---------------------|\n",
    "| 2x2     | 0.001 s | 0.002 s |\n",
    "| 2x3   | 0.045 s | 0.066 s |\n",
    "| 3x3 | 13.94 s | 10.69 s |"
   ]
  },
  {
   "cell_type": "markdown",
   "metadata": {},
   "source": [
    "### The first few moves\n",
    "\n",
    "Start with an empty board. This is the worst case scenario for minimax search with alpha-beta pruning since it needs solve all possible games that can be played (minus some pruning) before making the decision. What can you do? "
   ]
  },
  {
   "cell_type": "markdown",
   "metadata": {},
   "source": [
    "Most of the logical solutions to reduce time have been discussed above -- move ordering, alpha beta pruning, etc. In addition, providing a heuristic to cut off the game tree is discussed below.\n",
    "\n",
    "Below is an implementation of an esoteric idea I call `frankensearch` (because it is a *hideous patchwork solution*) -- that is, after move ordering, look at only the first three actions extending from each layer. This will end up producing a massive preferential treatment towards move ordering from the agent.\n",
    "\n",
    "It is definitely impractical as it will ignore possible outcomes that can improve utility. BUT it is far faster.\n",
    "\n",
    "Demo below times Franksearch for a single move for board sizes 3x3, 3x4, and 4x4."
   ]
  },
  {
   "cell_type": "code",
   "execution_count": 234,
   "metadata": {},
   "outputs": [
    {
     "data": {
      "image/png": "[encoded data removed]",
      "text/plain": [
       "<Figure size 432x288 with 1 Axes>"
      ]
     },
     "metadata": {
      "needs_background": "light"
     },
     "output_type": "display_data"
    },
    {
     "name": "stdout",
     "output_type": "stream",
     "text": [
      "A (3, 3) board took 0.07200 seconds to make a move.\n"
     ]
    },
    {
     "data": {
      "image/png": "[encoded data removed]",
      "text/plain": [
       "<Figure size 432x288 with 1 Axes>"
      ]
     },
     "metadata": {
      "needs_background": "light"
     },
     "output_type": "display_data"
    },
    {
     "name": "stdout",
     "output_type": "stream",
     "text": [
      "A (3, 4) board took 0.09400 seconds to make a move.\n"
     ]
    },
    {
     "data": {
      "image/png": "[encoded data removed]",
      "text/plain": [
       "<Figure size 432x288 with 1 Axes>"
      ]
     },
     "metadata": {
      "needs_background": "light"
     },
     "output_type": "display_data"
    },
    {
     "name": "stdout",
     "output_type": "stream",
     "text": [
      "A (4, 4) board took 0.14900 seconds to make a move.\n"
     ]
    }
   ],
   "source": [
    "# Radical idea: After move ordering, only traverse the first three moves at every layer.\n",
    "def alpha_beta_frankensearch_player(board, player=None, order_fun=None):\n",
    "    return alpha_beta_search(board.copy(),player = player, frankensearch=True, order_fun=move_ordering_2)[\"move\"]\n",
    "\n",
    "# Test timing for this search on empty boards of size 3x3 and 3x4.\n",
    "board_sizes = [(3,3),(3,4),(4,4)]\n",
    "\n",
    "for board_size in board_sizes:\n",
    "    t_i = time.time()\n",
    "    test_move(alpha_beta_frankensearch_player,start_board=empty_board(board_size[0],board_size[1]), show_res_board=True)\n",
    "    t_f = time.time()\n",
    "    print(\"A %s board took %.5f seconds to make a move.\" % (board_size,t_f-t_i))"
   ]
  },
  {
   "cell_type": "markdown",
   "metadata": {},
   "source": [
    "### Playtime\n",
    "\n",
    "Let the Minimax Search agent play a random agent on a small board. Analyze wins, losses and draws."
   ]
  },
  {
   "cell_type": "markdown",
   "metadata": {},
   "source": [
    "The Minimax Search agent does not consistently do much better than a random agent. This is likely because the search assumes optimal play from the opponent, but the opponent does not play optimally."
   ]
  },
  {
   "cell_type": "code",
   "execution_count": 225,
   "metadata": {},
   "outputs": [
    {
     "name": "stdout",
     "output_type": "stream",
     "text": [
      "Blue (1) Wins: 6\n",
      "Red (-1) Wins: 4\n",
      "Draws: 5\n"
     ]
    }
   ],
   "source": [
    "# Your code/ answer goes here.\n",
    "results = play(alpha_beta_search_player, random_player, N = 15,show_final_board=False,start_board=empty_board(3,3))\n",
    "print(\"Blue (1) Wins:\",results[1])\n",
    "print(\"Red (-1) Wins:\",results[-1])\n",
    "print(\"Draws:\",results[0])"
   ]
  },
  {
   "cell_type": "markdown",
   "metadata": {},
   "source": [
    "## Task 4: Heuristic Alpha-Beta Tree Search [30 points] \n",
    "\n",
    "### Heuristic evaluation function\n",
    "\n",
    "Define and implement a heuristic evaluation function."
   ]
  },
  {
   "cell_type": "code",
   "execution_count": 214,
   "metadata": {},
   "outputs": [],
   "source": [
    "def count_C_shapes(board, DEBUG = 0):\n",
    "    \"\"\"Given all sets of \"boxes\" in the board,\n",
    "    return now many boxes form C shapes.\"\"\"\n",
    "\n",
    "    n = board['n'] # Number of rows\n",
    "    m = board['m'] # Number of columns\n",
    "\n",
    "    count = 0\n",
    "\n",
    "    for row in range(n):\n",
    "        for col in range(n):\n",
    "            num_lines = 0\n",
    "\n",
    "            # Checks the 4 lines that form a box\n",
    "            if ('h',row,col) in board: num_lines +=1\n",
    "            if ('v',row,col) in board: num_lines +=1\n",
    "            if ('h',row+1,col) in board: num_lines +=1\n",
    "            if ('v',row,col+1) in board: num_lines +=1\n",
    "\n",
    "            if (num_lines == 3): \n",
    "                count += 1\n",
    "                \n",
    "    return count\n",
    "\n",
    "def count_L_II_shapes(board):\n",
    "    \"\"\"Given all sets of \"boxes\" in the board,\n",
    "    return now many boxes form L shapes or\n",
    "    parallel line (||) shapes.\"\"\"\n",
    "\n",
    "    n = board['n'] # Number of rows\n",
    "    m = board['m'] # Number of columns\n",
    "\n",
    "    count = 0\n",
    "    \n",
    "    # For each dot in the board (representing top left of a box...)\n",
    "    for row in range(n):\n",
    "        for col in range(n):\n",
    "            num_lines = 0\n",
    "\n",
    "            # Checks the 4 lines that form a box\n",
    "            for h in [(0,'h'),(1,'v')]:\n",
    "                for v in [0,1]:\n",
    "                    # FIXME: PROBABLY COMPLETELY WRONG\n",
    "                    if (h[1],row+h[0],col+v) in board: num_lines +=1\n",
    "\n",
    "            if (num_lines == 2): \n",
    "                count += 1\n",
    "\n",
    "    return count"
   ]
  },
  {
   "cell_type": "code",
   "execution_count": 215,
   "metadata": {},
   "outputs": [],
   "source": [
    "# Your code/ answer goes here.\n",
    "def eval_fun(board, player = 1, w1 = 3, w2 = 2, w3 = 1, DEBUG = 0):\n",
    "    \"\"\"heuristic for utility of state. Returns score for a node:\n",
    "    1. For terminal states it returns the utility. \n",
    "    2. For non-terminal states, it calculates a weighted linear function using 2 features of the state:\n",
    "    - How many 'boxes' have 2 lines filled out (L shapes, or parallel lines). These shapes boost utility.\n",
    "    - How many C shapes are found. C shapes reduce utility.\n",
    "    - Weighted based on current utility (Boxes owned by max vs Boxes owned by min).\n",
    "\n",
    "    We need to be careful that the utility of the heuristic stays between [-1,1]. \n",
    "    Note that the largest possible number of these positions is 4. I weigh the count by 0.1, \n",
    "    guaranteeing that is in the needed range.\n",
    "    \n",
    "    Adopted and Modified from tictactoe_heuristic_alpha_beta_tree_search.ipynb.\n",
    "\n",
    "    Function Returns: heuistic value, terminal?\"\"\"\n",
    "    # terminal state?\n",
    "    u = utility(board)\n",
    "    if terminal(board): return u, True\n",
    "    \n",
    "    # Determine Heuristic value.\n",
    "    # w1, w2, and w3 modify functional components of the evaluation function.\n",
    "    #   w1 - C shapes\n",
    "    #   w2 - L shapes or parallel lines\n",
    "    #   w3 - Current utility of this board\n",
    "    if DEBUG >= 2: print(count_C_shapes(board),\"C shaped found\\n\",count_L_II_shapes(board),\"L/|| shapes found\\n\",\"Utility is\",u)\n",
    "    score = (w1 * count_L_II_shapes(board) - w2 * count_C_shapes(board)) + (w3 * u)\n",
    "    if DEBUG >= 1: print(\"eval_fun score (For Heuristic AB Search):\",score)\n",
    "\n",
    "    return score, False"
   ]
  },
  {
   "cell_type": "markdown",
   "metadata": {},
   "source": [
    "### Cutting off search \n",
    "\n",
    "Modify your Minimax Search with Alpha-Beta Pruning to cut off search at a specified depth and use the heuristic evaluation function. Experiment with different cutoff values."
   ]
  },
  {
   "cell_type": "code",
   "execution_count": 216,
   "metadata": {},
   "outputs": [],
   "source": [
    "# Your code/ answer goes here.\n",
    "import math\n",
    "    \n",
    "# global variables\n",
    "DEBUG = 0 # 1 ... count nodes, 2 ... debug each node\n",
    "COUNT = 0\n",
    "\n",
    "# Implementation of Minimax Search with Alpha Beta Pruning.\n",
    "# Adopted and modified from tictactoe_alpha_beta_tree_search.ipynb.\n",
    "def heuristic_ab_search(board, player = 1, cutoff = None, eval_fun = eval_fun):\n",
    "    \"\"\"start the search.\"\"\"\n",
    "    global DEBUG, COUNT\n",
    "    COUNT = 0\n",
    "    \n",
    "    value, move = heuristic_max_value_ab(board, player, -math.inf, +math.inf, 0, cutoff, eval_fun)\n",
    "     \n",
    "    if DEBUG >= 1: print(f\"Number of nodes searched: {COUNT}\") \n",
    "    \n",
    "    return { \"move\": move, \"value\": value }\n",
    "\n",
    "def heuristic_max_value_ab(state, player, alpha, beta, depth, cutoff, eval_fun):\n",
    "    \"\"\"player's best move.\"\"\"\n",
    "    global DEBUG, COUNT\n",
    "    COUNT += 1\n",
    "       \n",
    "    # cut off and terminal test\n",
    "    v, terminal = eval_fun(state, player)\n",
    "    if((cutoff is not None and depth >= cutoff) or terminal): \n",
    "        if(terminal): \n",
    "            alpha, beta = v, v\n",
    "        if DEBUG >= 2: print(f\"stopped at {depth}: {state} term: {terminal} eval: {v} [{alpha}, {beta}]\" ) \n",
    "        return v, None\n",
    "    \n",
    "    v, move = -math.inf, None\n",
    "\n",
    "    # check all possible actions in the state, update alpha and return move with the largest value\n",
    "    for a in actions(state):\n",
    "        v2, a2 = heuristic_min_value_ab(result(state, a[0], a[1], a[2], other(player)), player, alpha, beta, depth+1, cutoff, eval_fun)\n",
    "        if v2 > v:\n",
    "            v, move = v2, a\n",
    "            alpha = max(alpha, v)\n",
    "        if v >= beta: return v, move\n",
    "    \n",
    "    return v, move\n",
    "\n",
    "def heuristic_min_value_ab(state, player, alpha, beta, depth, cutoff, eval_fun):\n",
    "    \"\"\"opponent's best response.\"\"\"\n",
    "    global DEBUG, COUNT\n",
    "    COUNT += 1\n",
    "    \n",
    "    # cut off and terminal test\n",
    "    v, terminal = eval_fun(state, player)\n",
    "    if((cutoff is not None and depth >= cutoff) or terminal): \n",
    "        if(terminal): \n",
    "            alpha, beta = v, v\n",
    "        if DEBUG >= 2: print(f\"stopped at {depth}: {state} term: {terminal} eval: {v} [{alpha}, {beta}]\" ) \n",
    "        return v, None\n",
    "    \n",
    "    v, move = +math.inf, None\n",
    "\n",
    "    # check all possible actions in the state, update beta and return move with the smallest value\n",
    "    for a in actions(state):\n",
    "        v2, a2 = heuristic_max_value_ab(result(state, a[0], a[1], a[2], other(player)), player, alpha, beta, depth+1, cutoff, eval_fun)\n",
    "        if v2 < v:\n",
    "            v, move = v2, a\n",
    "            beta = min(beta, v)\n",
    "        if v <= alpha: return v, move\n",
    "    \n",
    "    return v, move"
   ]
  },
  {
   "cell_type": "code",
   "execution_count": 217,
   "metadata": {},
   "outputs": [],
   "source": [
    "# Your code/ answer goes here.\n",
    "def heuristic_ab_search_player(board, player=None, order_fun = None):\n",
    "    return heuristic_ab_search(board.copy(),player = player, cutoff=5)[\"move\"]"
   ]
  },
  {
   "cell_type": "markdown",
   "metadata": {},
   "source": [
    "Experiment with the same manually created boards as above to check if the agent spots winning opportunities."
   ]
  },
  {
   "cell_type": "markdown",
   "metadata": {},
   "source": [
    "Like the standard Alpha Beta Tree Search algorithm above, the Heuristic alpha beta tree search was caught being too perceptive, and did not take the \"greedy\" option of claiming a box when it was available. Either that or the utility function needs tuning.\n",
    "\n",
    "Two other cases also failed. This is probably due to a utility function that doesn't detect these characteristics:\n",
    "- It created a C shape.\n",
    "- It did not form an L shape or parallel lines\n",
    "\n",
    "All other cases produce optimal solutions. That is:\n",
    "- It created a box and prevented a C shape\n",
    "- It filled in two boxes."
   ]
  },
  {
   "cell_type": "code",
   "execution_count": 221,
   "metadata": {},
   "outputs": [
    {
     "data": {
      "image/png": "[encoded data removed]",
      "text/plain": [
       "<Figure size 432x288 with 1 Axes>"
      ]
     },
     "metadata": {
      "needs_background": "light"
     },
     "output_type": "display_data"
    },
    {
     "name": "stdout",
     "output_type": "stream",
     "text": [
      "Heuristic alpha beta tree search did not perform the optimal move for Board 0\n"
     ]
    },
    {
     "data": {
      "image/png": "[encoded data removed]",
      "text/plain": [
       "<Figure size 432x288 with 1 Axes>"
      ]
     },
     "metadata": {
      "needs_background": "light"
     },
     "output_type": "display_data"
    },
    {
     "name": "stdout",
     "output_type": "stream",
     "text": [
      "Heuristic alpha beta tree search performed 1 optimal move(s) for Board 1\n"
     ]
    },
    {
     "data": {
      "image/png": "[encoded data removed]",
      "text/plain": [
       "<Figure size 432x288 with 1 Axes>"
      ]
     },
     "metadata": {
      "needs_background": "light"
     },
     "output_type": "display_data"
    },
    {
     "data": {
      "image/png": "[encoded data removed]",
      "text/plain": [
       "<Figure size 432x288 with 1 Axes>"
      ]
     },
     "metadata": {
      "needs_background": "light"
     },
     "output_type": "display_data"
    },
    {
     "name": "stdout",
     "output_type": "stream",
     "text": [
      "Heuristic alpha beta tree search performed 2 optimal move(s) for Board 2\n"
     ]
    },
    {
     "data": {
      "image/png": "[encoded data removed]",
      "text/plain": [
       "<Figure size 432x288 with 1 Axes>"
      ]
     },
     "metadata": {
      "needs_background": "light"
     },
     "output_type": "display_data"
    },
    {
     "name": "stdout",
     "output_type": "stream",
     "text": [
      "Heuristic alpha beta tree search performed 1 optimal move(s) for Board 3\n"
     ]
    },
    {
     "data": {
      "image/png": "[encoded data removed]",
      "text/plain": [
       "<Figure size 432x288 with 1 Axes>"
      ]
     },
     "metadata": {
      "needs_background": "light"
     },
     "output_type": "display_data"
    },
    {
     "data": {
      "image/png": "[encoded data removed]",
      "text/plain": [
       "<Figure size 432x288 with 1 Axes>"
      ]
     },
     "metadata": {
      "needs_background": "light"
     },
     "output_type": "display_data"
    },
    {
     "data": {
      "image/png": "[encoded data removed]",
      "text/plain": [
       "<Figure size 432x288 with 1 Axes>"
      ]
     },
     "metadata": {
      "needs_background": "light"
     },
     "output_type": "display_data"
    },
    {
     "name": "stdout",
     "output_type": "stream",
     "text": [
      "Heuristic alpha beta tree search performed 3 optimal move(s) for Board 4\n"
     ]
    }
   ],
   "source": [
    "# Run the agent on each.\n",
    "for i, curr_board in enumerate(boards):\n",
    "    is_optimal = test_move(heuristic_ab_search_player, start_board=curr_board, show_res_board=True)\n",
    "    if (is_optimal >= 0.995):\n",
    "        print(\"Heuristic alpha beta tree search performed\",int(is_optimal),\"optimal move(s) for Board\",i)\n",
    "    else:\n",
    "        print(\"Heuristic alpha beta tree search did not perform the optimal move for Board\",i)"
   ]
  },
  {
   "cell_type": "markdown",
   "metadata": {},
   "source": [
    "How long does it take to make a move? Start with a smaller board with 4 columns and make the board larger by adding columns.\n",
    "\n",
    "The time appears to have a relationship between $O(n)$ and $O(n\\log n)$ relationship with column size.This makes sense as adding an extra column introduces $n$ additional nodes to traverse in any given level of the game tree, but depth will remain unchanged due to the cutoff.\n",
    "\n",
    "Times are noted in printouts below."
   ]
  },
  {
   "cell_type": "code",
   "execution_count": 219,
   "metadata": {},
   "outputs": [
    {
     "name": "stdout",
     "output_type": "stream",
     "text": [
      "A (3, 4) board took 0.36511 seconds to make a move.\n",
      "A (3, 5) board took 0.78560 seconds to make a move.\n",
      "A (3, 6) board took 1.67792 seconds to make a move.\n",
      "A (3, 7) board took 3.31352 seconds to make a move.\n",
      "A (3, 8) board took 5.90531 seconds to make a move.\n",
      "A (3, 9) board took 9.98929 seconds to make a move.\n",
      "A (3, 10) board took 16.03852 seconds to make a move.\n"
     ]
    }
   ],
   "source": [
    "# Your code/ answer goes here.\n",
    "import time \n",
    "\n",
    "# Your code/ answer goes here.\n",
    "board_sizes = [(3,4),(3,5),(3,6),(3,7),(3,8),(3,9),(3,10)]\n",
    "\n",
    "# FIXME: Insufferably long move times for any board of size > 3x3. Is that expected?\n",
    "for board_size in board_sizes:\n",
    "    t_i = time.time()\n",
    "    test_move(heuristic_ab_search_player,start_board=empty_board(board_size[0],board_size[1]))\n",
    "    t_f = time.time()\n",
    "    print(\"A %s board took %.5f seconds to make a move.\" % (board_size,t_f-t_i))"
   ]
  },
  {
   "cell_type": "markdown",
   "metadata": {},
   "source": [
    "### Playtime\n",
    "\n",
    "Let two heuristic search agents (different cutoff depth, different heuristic evaluation function) compete against each other on a reasonably sized board. Since there is no randomness, you only need to let them play once."
   ]
  },
  {
   "cell_type": "markdown",
   "metadata": {},
   "source": [
    "We define a second heuristic alpha beta search player, which performs the same heuristic alpha beta search algorithm with the following changes:\n",
    "\n",
    "- $w1=2$ (was 3) -- Decreased propensity to chase after L shapes or parallel lines.\n",
    "- $w2=4$ (was 2) -- Increased propensity to avoid C shapes.\n",
    "- $w3=2$ (was 1) -- Increased propensity to be \"greedy\" -- that is, chase after a box when it's available.\n",
    "- cutoff $=4$ (was 5) -- More evaluating and judging, less percieving."
   ]
  },
  {
   "cell_type": "code",
   "execution_count": 220,
   "metadata": {},
   "outputs": [],
   "source": [
    "def eval_fun_2(board, player = 1):\n",
    "    return eval_fun(board,player,w1 = 2, w2 = 4, w3 = 2, DEBUG = 0)\n",
    "\n",
    "def heuristic_ab_search_player_2(board, player=None, order_fun = None):\n",
    "    return heuristic_ab_search(board.copy(),player = player, cutoff=4, eval_fun=eval_fun_2)[\"move\"]"
   ]
  },
  {
   "cell_type": "markdown",
   "metadata": {},
   "source": [
    "We pit the heuristic alpha beta search player defined and tested above against this new agent and analyze the moves and results."
   ]
  },
  {
   "cell_type": "code",
   "execution_count": 197,
   "metadata": {},
   "outputs": [
    {
     "name": "stdout",
     "output_type": "stream",
     "text": [
      "Player 1 placed line ( v 1 1 )\n",
      "Player -1 placed line ( h 0 2 )\n",
      "Player 1 placed line ( h 1 1 )\n",
      "Player -1 placed line ( h 0 0 )\n",
      "Player 1 placed line ( v 2 0 )\n",
      "Player -1 placed line ( v 2 3 )\n",
      "Player 1 placed line ( h 3 1 )\n",
      "Player -1 placed line ( h 3 0 )\n",
      "Player 1 placed line ( h 3 2 )\n",
      "Player -1 placed line ( v 0 0 )\n",
      "Player 1 placed line ( v 1 3 )\n",
      "Player -1 placed line ( v 0 1 )\n",
      "Player 1 placed line ( h 2 0 )\n",
      "Player -1 placed line ( h 1 0 )\n",
      "Player -1 filled a box! Player 1 's turn skipped\n",
      "Player -1 placed line ( v 1 0 )\n",
      "Player -1 filled a box! Player 1 's turn skipped\n",
      "Player -1 placed line ( h 2 1 )\n",
      "Player 1 placed line ( h 0 1 )\n",
      "Player -1 placed line ( v 0 2 )\n",
      "Player -1 filled a box! Player 1 's turn skipped\n",
      "Player -1 placed line ( h 1 2 )\n",
      "Player 1 placed line ( v 0 3 )\n",
      "Player 1 filled a box! Player -1 's turn skipped\n",
      "Player 1 placed line ( v 1 2 )\n",
      "Player 1 filled a box! Player -1 's turn skipped\n",
      "Player 1 placed line ( v 2 1 )\n",
      "Player 1 filled a box! Player -1 's turn skipped\n",
      "Player 1 placed line ( h 2 2 )\n",
      "Player 1 filled a box! Player -1 's turn skipped\n",
      "Player 1 placed line ( v 2 2 )\n",
      "Player 1 filled a box! Player -1 's turn skipped\n",
      "Final board:\n"
     ]
    },
    {
     "data": {
      "image/png": "[encoded data removed]",
      "text/plain": [
       "<Figure size 432x288 with 1 Axes>"
      ]
     },
     "metadata": {
      "needs_background": "light"
     },
     "output_type": "display_data"
    },
    {
     "data": {
      "text/plain": [
       "{1: 1, -1: 0, 0: 0}"
      ]
     },
     "execution_count": 197,
     "metadata": {},
     "output_type": "execute_result"
    }
   ],
   "source": [
    "# Your code/ answer goes here.\n",
    "play(heuristic_ab_search_player, heuristic_ab_search_player_2,show_final_board=True, print_moves=True)"
   ]
  },
  {
   "cell_type": "markdown",
   "metadata": {},
   "source": [
    "### Observations from Play Time:\n",
    "\n",
    "Player blue (the original more \"assertive\" player) won.\n",
    "\n",
    "Blue:\n",
    "\n",
    "- Started at the left-center of the board, following move ordering principles.\n",
    "- Blue went for the L shape right away, affirming its greater \"assertive\" tendencies (greater propensity to chase L shapes).\n",
    "- Did a good job avoiding C shapes at the beginning of the game.\n",
    "- Was GIFTED a C shape to create the first box, but didn't take it. Unfortunate.\n",
    "\n",
    "Red:\n",
    "\n",
    "- Red didn't aggressively form L shapes at the beginning of the game like blue initially did.\n",
    "- Red was also the first to place a C shape, which contradicts its increased propensity to avoid C shapes. This is likely due to Minimax Search + Smaller cutoff distance.\n",
    "- Was given an opportunity to fill in 3 boxes at once, but it only filled the first two.\n",
    "- As a result, blue was given an opportunity to fill in EVERY SINGLE one of its 5 boxes at once and win the game. Ouch.\n",
    "\n",
    "### Takeaways: \n",
    "\n",
    "- There were a lot of opportunities for either player to increase its utility, but it didn't take them for some reason. Perhaps minimax search percieved that the other player would find ways to create chains of boxes as a result of them taking that box and placing another line.\n",
    "- It appears these strategies of avoiding C shapes and creating parallel lines led to a lot of \"edge-hugging\" after those initial lines placed by blue occurred.\n",
    "- These agents would need a lot of work to be competitive. I unfortunately ran out of time for this assignment, but I plan to implement a Monte-Carlo Tree Search algorithm with a more nuanced utility function. "
   ]
  },
  {
   "cell_type": "markdown",
   "metadata": {},
   "source": [
    "## Tournament task [+1 to 5% bonus on your course grade; will be assigned separately]\n",
    "\n",
    "Find another student and let your best agent play against the other student's best player. You are allowed to use any improvements you like as long as you code it yourself. We will set up a class tournament on Canvas. This tournament will continue after the submission deadline."
   ]
  },
  {
   "cell_type": "markdown",
   "metadata": {},
   "source": [
    "## Graduate student advanced task: Pure Monte Carlo Search and Best First Move [10 point]\n",
    "\n",
    "__Undergraduate students:__ This is a bonus task you can attempt if you like [+5 Bonus point].\n",
    "\n",
    "### Pure Monte Carlo Search\n",
    "\n",
    "Implement Pure Monte Carlo Search (see [tic-tac-toe-example](https://nbviewer.org/github/mhahsler/CS7320-AI/blob/master/Games/tictactoe_pure_monte_carlo_search.ipynb)) and investigate how this search performs on the test boards that you have used above. "
   ]
  },
  {
   "cell_type": "code",
   "execution_count": 20,
   "metadata": {},
   "outputs": [],
   "source": [
    "# Your code/ answer goes here."
   ]
  },
  {
   "cell_type": "markdown",
   "metadata": {},
   "source": [
    "### Best First Move\n",
    "\n",
    "How would you determine what the best first move for a standard board ($5 \\times 5$) is? You can use Pure Monte Carlo Search or any algorithms that you have implemented above."
   ]
  },
  {
   "cell_type": "code",
   "execution_count": 21,
   "metadata": {},
   "outputs": [],
   "source": [
    "# Your code/ answer goes here."
   ]
  }
 ],
 "metadata": {
  "kernelspec": {
   "display_name": "Python 3 (ipykernel)",
   "language": "python",
   "name": "python3"
  },
  "language_info": {
   "codemirror_mode": {
    "name": "ipython",
    "version": 3
   },
   "file_extension": ".py",
   "mimetype": "text/x-python",
   "name": "python",
   "nbconvert_exporter": "python",
   "pygments_lexer": "ipython3",
   "version": "3.7.11"
  }
 },
 "nbformat": 4,
 "nbformat_minor": 4
}
