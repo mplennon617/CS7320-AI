{
 "cells": [
  {
   "cell_type": "markdown",
   "metadata": {},
   "source": [
    "# Adversarial Search: Playing Dots and Boxes\n",
    "\n",
    "\n",
    "## Instructions\n",
    "\n",
    "Total Points: Undegraduates 100, graduate students 110\n",
    "\n",
    "Complete this notebook and submit it. The notebook needs to be a complete project report with your implementation, documentation including a short discussion of how your implementation works and your design choices, and experimental results (e.g., tables and charts with simulation results) with a short discussion of what they mean. Use the provided notebook cells and insert additional code and markdown cells as needed.\n",
    "\n",
    "## Introduction\n",
    "\n",
    "You will implement different versions of agents that play the game Dots and Boxes:\n",
    "\n",
    "> \"Dots and Boxes is a pencil-and-paper game for two players. The game starts with an empty grid of dots. Usually two players take turns adding a single horizontal or vertical line between two unjoined adjacent dots. A player who completes the fourth side of a 1x1 box earns one point and takes another turn. A point is typically recorded by placing a mark that identifies the player in the box, such as an initial. The game ends when no more lines can be placed. The winner is the player with the most points. The board may be of any size grid.\" (see [Dots and Boxes on Wikipedia](https://en.wikipedia.org/wiki/Dots_and_Boxes))\n",
    "\n",
    "You can play Dots and Boxes [here](https://www.math.ucla.edu/~tom/Games/dots&boxes.html)."
   ]
  },
  {
   "cell_type": "markdown",
   "metadata": {},
   "source": [
    "## Task 1: Defining the Search Problem [10 point]\n",
    "\n",
    "Define the components of the search problem associated with this game:\n",
    "\n",
    "* Initial state\n",
    "* Actions\n",
    "* Transition model\n",
    "* Test for the terminal state\n",
    "* Utility for terminal states"
   ]
  },
  {
   "cell_type": "markdown",
   "metadata": {},
   "source": [
    "### Answer:\n",
    "* Initial state: Empty board containing an 2D array of dots of size $m*n$. No lines are connected and no boxes are formed. It is player Max's turn.\n",
    "* Actions: Place one line on available edge between two dots \n",
    "* Transition model: f(prev_state): action x prev_state = {all instances of prev_state with one additional line placed on a previously available edge (and potentially an additional box filled)} Swap turns IFF no new box was formed.\n",
    "* Test for the terminal state: Either Player Max or Player Min has formed more than $\\lfloor\\frac{(m-1)(n-1)}{2}\\rfloor+1$ boxes OR every possible horizontal and vertical line position has been occupied.\n",
    "* Utility for terminal states: Player Max has more boxes filled in than Player min, OR Player Max has formed more than $\\frac{n}{2}+1$ boxes."
   ]
  },
  {
   "cell_type": "markdown",
   "metadata": {},
   "source": [
    "How big is the state space? Give an estimate and explain it."
   ]
  },
  {
   "cell_type": "markdown",
   "metadata": {},
   "source": [
    "### Answer **(FINISH!!!!!!!!!):** \n",
    "State Space Estimation: # possible line configurations * # possible initial configurations.\n",
    "\n",
    "**possible line configurations for board size n x n:**\n",
    "(|{empty, your line, opponent line}| ^ ((n-1)(n))*2) -- Horizontal and vertical (2) orientatations -- each orientation has n \"rows\", with n-1 lines available to be placed per row. Order of the lines matters, so we perform a permutation calculation.\n",
    "\n",
    "e.g. for board size 5 x 5: # line configurations would be 3^40.\n",
    "\n",
    "**possible initialed configurations for board size n x n:** \n",
    "(|{no initial, your initial, opponent initial}| ^ (n^2 - n)) -- At minimum, n boxes MUST be empty, so we exclude them from the possible state calculation. Then the remaining n^2 - n boxes can initialed by a player or not. Order of the initials matter, so we perform a permutation calculation.\n",
    "\n",
    "Full estimation: 3^(((n-1)(n))*2) * 3^(n^2-n). The line estimation is an accurate permutation. However, for initials, there is only one scenario in which the number of initials is 9 (that is, initials filled by each layer along the diagonal). While this is a valid state, our agent will never try to achieve this strategy, so it's likely in practice that we will have to worry with far fewer states (say, only 6 or 7 initialized boxes)."
   ]
  },
  {
   "cell_type": "markdown",
   "metadata": {},
   "source": [
    "How big is the game tree that minimax search will go through? Give an estimate and explain it."
   ]
  },
  {
   "cell_type": "code",
   "execution_count": 316,
   "metadata": {},
   "outputs": [],
   "source": [
    "# Your code/ answer goes here."
   ]
  },
  {
   "cell_type": "markdown",
   "metadata": {},
   "source": [
    "## Task 2: Game Environment and Random Agent [30 point]\n",
    "\n",
    "You need to think about a data structure to represent the board meaning he placed lines and who finished what box. There are many options. Let's represent the board using a simple dictionary where `n` and `m` represents the number of dots horizontaly and vertically, respectively. Everybody needs to use the same representation so we can let agents play against each other later. "
   ]
  },
  {
   "cell_type": "code",
   "execution_count": 317,
   "metadata": {},
   "outputs": [
    {
     "name": "stdout",
     "output_type": "stream",
     "text": [
      "True\n",
      "True\n",
      "False\n"
     ]
    },
    {
     "data": {
      "text/plain": [
       "{'n': 4, 'm': 4, ('h', 1, 1): True, ('v', 1, 1): True}"
      ]
     },
     "execution_count": 317,
     "metadata": {},
     "output_type": "execute_result"
    }
   ],
   "source": [
    "import numpy as np\n",
    "\n",
    "def empty_board(m = 4,n = 4):\n",
    "    return {\n",
    "    'n': n,  ### hoizontal dots\n",
    "    'm': m   ### vertical dots\n",
    "    }\n",
    "\n",
    "board = {\n",
    "    'n': 4,  ### hoizontal dots\n",
    "    'm': 4   ### vertical dots\n",
    "}\n",
    "\n",
    "def draw_line(board, orientation, row, col):\n",
    "    \"\"\"\n",
    "    Place a line on an exiting board.\n",
    "       \n",
    "    Parameters\n",
    "    ----------\n",
    "    board: dict\n",
    "        the board\n",
    "    orientation: str\n",
    "        either 'h' or 'v' for horizontal or vertical\n",
    "    row, col: int\n",
    "        index of the starting dot for the line (starting with 0)\n",
    "    \n",
    "    \"\"\"\n",
    "    \n",
    "    if orientation not in ['h', 'v']:\n",
    "        return False\n",
    "        \n",
    "    if row < 0 or col < 0:\n",
    "        return False\n",
    "        \n",
    "    if row >= board['n'] + (orientation == 'v') or col >= board['m'] + (orientation == 'h'):\n",
    "        return False\n",
    "        \n",
    "    if (orientation, row, col) in board:\n",
    "        return False\n",
    "            \n",
    "    board[(orientation, row, col)] = True\n",
    "    return True\n",
    "    \n",
    "\n",
    "print(draw_line(board, \"h\", 1, 1))\n",
    "print(draw_line(board, \"v\", 1, 1))\n",
    "\n",
    "# this hould not work\n",
    "print(draw_line(board, \"h\", 1, 1))\n",
    "\n",
    "board"
   ]
  },
  {
   "cell_type": "markdown",
   "metadata": {},
   "source": [
    "Write code to display the board. **Bonus point: Post your visualization code with an example output to the discussion board. The best visualization will earn you bonus participation points in this class.**"
   ]
  },
  {
   "cell_type": "code",
   "execution_count": 318,
   "metadata": {
    "scrolled": true
   },
   "outputs": [],
   "source": [
    "import matplotlib.pyplot as plt\n",
    "import matplotlib.lines as mlines\n",
    "\n",
    "def show_board(board, show_results=False):\n",
    "    n = board['n']  # Rows\n",
    "    m = board['m']  # Columns\n",
    "   \n",
    "    fig, ax = plt.subplots()\n",
    "    ax.set_xlim(-0.5, m-0.5)\n",
    "    ax.set_ylim(-0.5, n-0.5)\n",
    "   \n",
    "    # Draw dots\n",
    "    for row in range(n):\n",
    "        for col in range(m):\n",
    "            if (row, col) in board:\n",
    "                ax.scatter(row, col, s=100, marker='o', color='black')\n",
    "            else:\n",
    "                ax.scatter(row, col, s=100, marker='o', color='black')\n",
    "     \n",
    "    # Draw lines\n",
    "    for line in board:\n",
    "        # print(line)\n",
    "        if line != 'n' and line != 'm' and line != -1 and line != 1:\n",
    "            # print(line)\n",
    "            if len(line) > 2:\n",
    "                # Draw Horizontal line\n",
    "                if line[0] == 'h':\n",
    "                    #print(\"for line ('h'\",line[1],line[2],\"), plot line from X=\",line[2]+1,\"to\",line[2]+2,\"and Y=\",n-line[1],\"to\",n-line[1])\n",
    "                    #l = mlines.Line2D([line[2]+1,line[2]+2], [n-line[1],n-line[1]], color='black')\n",
    "                    l = mlines.Line2D([line[2],line[2]+1], [n-line[1]-1,n-line[1]-1], color='black')\n",
    "                    ax.add_line(l)\n",
    "                # Draw Vertical line\n",
    "                elif line[0] == 'v':\n",
    "                    #print(\"for line ('v'\",line[1],line[2],\"), plot line from X=\",line[2]+1,\"to\",line[2]+1,\"and Y=\",n-line[1],\"to\",n-line[1]-1)                    \n",
    "                    #l = mlines.Line2D([line[2]+1,line[2]+1], [n-line[1],n-line[1]-1], color='black')\n",
    "                    l = mlines.Line2D([line[2],line[2]], [n-line[1]-2,n-line[1]-1], color='black')\n",
    "                    ax.add_line(l)\n",
    "   \n",
    "    # Check for boxes\n",
    "    # Boxes are stored in board with (row, col) as key and player (1 or -1) as value\n",
    "    # eg: board[(3, 1)] = 1 -> player 1 has a box with top left vertex at (3, 1)\n",
    "    for box in board:\n",
    "        if box != 'n' and box != 'm' and box != -1 and box != 1:\n",
    "            if len(box) == 2:\n",
    "                if board[(box[0], box[1])] == 1:\n",
    "                    ax.add_patch(plt.Rectangle((box[1], n - box[0] - 1), 1, -1, color='b'))\n",
    "                    #print(\"blue box at point (\",box[1],\",\",n - box[0] - 1,\")\")\n",
    "                else:\n",
    "                    ax.add_patch(plt.Rectangle((box[1], n - box[0] - 1), 1, -1, color='r'))\n",
    "                    #print(\"red box at point (\",box[1],\",\",n - box[0] - 1,\")\")\n",
    "   \n",
    "    # Print results  \n",
    "    if (show_results):\n",
    "        print('Results:')\n",
    "        print('         -1:', board[-1])\n",
    "        print('          1:', board[1])\n",
    "   \n",
    "    # Set up plot to start at (1, 1)\n",
    "    x = []\n",
    "    y = []\n",
    "    for row in range(board['n']):\n",
    "        # x.append(row)\n",
    "        x.append(row+1)\n",
    "    for col in range(board['m']):\n",
    "        # y.append(col)\n",
    "        y.append(col+1)\n",
    "    default_x_ticks = range(len(x))\n",
    "    plt.xticks(default_x_ticks, x)\n",
    "    default_y_ticks = range(len(y))\n",
    "    plt.yticks(default_y_ticks, y)\n",
    "   \n",
    "    plt.show()"
   ]
  },
  {
   "cell_type": "markdown",
   "metadata": {},
   "source": [
    "Implement helper functions for:\n",
    "\n",
    "* The transition model $result(s, a)$.\n",
    "* The utility function $utility(s)$.\n",
    "* Check for terminal states $terminal(s)$.\n",
    "* A check for available actions in each state $actions(s)$.\n",
    "\n",
    "__Notes:__\n",
    "* Make sure that all these functions work with boards of different sizes (number of columns and rows as stored in the board).\n",
    "* The result function evaluates if the player closed a box and needs to store that information on the board. Add elements of the form `(row,col): player` to the board dictionary. `row` and `col` are the coordinates for the box and `player` is +1 or -1 representing the player. For example `(0,0): -1` means that the top-left box belongs to the other player. "
   ]
  },
  {
   "cell_type": "code",
   "execution_count": 319,
   "metadata": {},
   "outputs": [],
   "source": [
    "# Helper function to return all the boxes in a board owned by a player.\n",
    "def get_boxes(board):\n",
    "\n",
    "    boxes = []\n",
    "    for key in board.keys():\n",
    "        if (isinstance(key,tuple) and len(key) == 2):\n",
    "            boxes.append(key)\n",
    "\n",
    "    return boxes\n",
    "\n",
    "# Helper function to return all the lines in the board.\n",
    "def get_lines(board):\n",
    "    lines = []\n",
    "    for key in board.keys():\n",
    "        if (isinstance(key,tuple) and len(key) == 3):\n",
    "            lines.append(key)\n",
    "\n",
    "    return lines"
   ]
  },
  {
   "cell_type": "code",
   "execution_count": 320,
   "metadata": {},
   "outputs": [],
   "source": [
    "# Referencing this paper as I go:\n",
    "# https://www.aaai.org/ocs/index.php/AAAI/AAAI12/paper/viewFile/5126/5218#:~:text=Dots%2DAnd%2DBoxes%20is%20impartial,pieces%20of%20a%20certain%20color.\n",
    "\n",
    "def result(board,orientation,row,col,player):\n",
    "    \"\"\"\n",
    "    Evaluates the state of the board, detecting and filling any unfilled boxes.\n",
    "    Only searches for unfilled boxes based on the most recent line placed \n",
    "    (determined by params orientation, row, and col).\n",
    "       \n",
    "    Parameters\n",
    "    ----------\n",
    "    board: dict\n",
    "        the board\n",
    "    orientation: str\n",
    "        either 'h' or 'v' for horizontal or vertical\n",
    "    row, col: int\n",
    "        index of the starting dot for the line (starting with 0)\n",
    "    player\n",
    "        whether player max (1) or player min (-1) placed the line\n",
    "    \n",
    "    \"\"\"\n",
    "\n",
    "    # Place the line.\n",
    "    board[(orientation,row,col)] = True\n",
    "\n",
    "    # Check if boxes are formed, and place them.\n",
    "    if (orientation == 'h'):\n",
    "        # Horizontal case -- check if a box formed above (if possible)\n",
    "        if (row > 0):\n",
    "            if (('h',row-1,col) in board and \n",
    "                ('v',row-1,col) in board and\n",
    "                ('v',row-1,col+1) in board ):\n",
    "                \n",
    "                #print(\"new box added above -- (\",row-1,\",\",col,\")\")\n",
    "                board[(row-1,col)] = player\n",
    "        # Horizontal case -- check if a box formed below (if possible)\n",
    "        if (row < board['n'] - 1):\n",
    "            if (('h',row+1,col) in board and \n",
    "            ('v',row,col) in board and\n",
    "            ('v',row,col+1) in board):\n",
    "\n",
    "                #print(\"new box added below -- (\",row,\",\",col,\")\")          \n",
    "                board[(row,col)] = player\n",
    "\n",
    "    elif (orientation == 'v'):\n",
    "        # Vertical case -- check if a box formed to the left (if possible)\n",
    "        if (col > 0):\n",
    "            if (('v',row,col-1) in board and \n",
    "            ('h',row,col-1) in board and\n",
    "            ('h',row+1,col-1) in board):\n",
    "                \n",
    "                #print(\"new box added left -- (\",row,\",\",col-1,\")\")   \n",
    "                board[(row,col-1)] = player\n",
    "\n",
    "        # Vertical case -- check if a box formed to the right (if possible)\n",
    "        if (row < board['m'] - 1):\n",
    "            if (('v',row,col+1) in board and \n",
    "            ('h',row,col) in board and\n",
    "            ('h',row+1,col) in board):\n",
    "\n",
    "                #print(\"new box added right -- (\",row,\",\",col,\")\")                  \n",
    "                board[(row,col)] = player\n",
    "\n",
    "    #print(\"BOARD UPDATED\")\n",
    "    #show_board(board)\n",
    "\n",
    "    return board"
   ]
  },
  {
   "cell_type": "code",
   "execution_count": 321,
   "metadata": {},
   "outputs": [],
   "source": [
    "# Utility: Ratio of boxes Max owns to boxes Min owns.\n",
    "def utility(board):\n",
    "\n",
    "    utility = 0\n",
    "\n",
    "    # Who owns what box?\n",
    "    # Calculate utility by calculating Max - Min.\n",
    "    for box in get_boxes(board):\n",
    "        if (board[box] == 1):\n",
    "            utility += 1\n",
    "        elif (board[box] == -1):\n",
    "            utility -= 1\n",
    "\n",
    "    # TODO: WE WANT TO ADD SOME REGULARIZATION TO THIS FUNCTION.\n",
    "\n",
    "    return utility"
   ]
  },
  {
   "cell_type": "code",
   "execution_count": 322,
   "metadata": {},
   "outputs": [],
   "source": [
    "def check_win(board):\n",
    "    \"\"\"\n",
    "    Helper function to check whether a player has placed enough boxes to guarantee a win \n",
    "    (i.e. guarantee ownership of more boxes than the other)\n",
    "    \"\"\"\n",
    "    boxes = get_boxes(board)\n",
    "\n",
    "    win_threshold = (board['m']-1)*(board['n']-1)//2 + 1\n",
    "\n",
    "    # At any point, if it's determined that max or min has obtained 'win_threshold' boxes\n",
    "    # Then return that player as the winner.\n",
    "    # Otherwise, return 0 (No winner yet).\n",
    "    min_cnt = 0\n",
    "    max_cnt = 0\n",
    "    for box in boxes:\n",
    "        if board[box] == 1:\n",
    "            max_cnt += 1\n",
    "        elif board[box] == -1:\n",
    "            min_cnt += 1\n",
    "        \n",
    "        if max_cnt >= win_threshold:\n",
    "            return 1\n",
    "        if min_cnt >= win_threshold:\n",
    "            return -1\n",
    "\n",
    "\n",
    "    return 0\n",
    "    \n",
    "def check_board_full(board):\n",
    "    \"\"\"\n",
    "    Helper function to check whether the board is completely filled with\n",
    "    lines (i.e. whether there are no more possible moves to make).\n",
    "    \"\"\"\n",
    "\n",
    "    m = board['m']\n",
    "    n = board['n']\n",
    "    \n",
    "    return len(get_lines(board)) >= m*(n-1) + n*(m-1)\n",
    "\n",
    "def terminal(board):\n",
    "    \"\"\"\n",
    "    Terminal function -- checks whether a given board state is a terminal\n",
    "    node.\n",
    "    \"\"\"\n",
    "    return check_win(board) or check_board_full(board)"
   ]
  },
  {
   "cell_type": "code",
   "execution_count": 323,
   "metadata": {},
   "outputs": [],
   "source": [
    "def actions(board):\n",
    "    \"\"\"\n",
    "    Actions function -- returns positions of all possible lines the player can place.\n",
    "    \"\"\"\n",
    "    res = []\n",
    "    for i in range(board['n']):\n",
    "        for j in range(board['m']):\n",
    "            if (i == board['n']-1 and j == board['m']-1):\n",
    "                continue\n",
    "            if (('h',i,j) not in board and j != board['m']-1):\n",
    "                res.append(('h',i,j))\n",
    "            if (('v',i,j) not in board and i != board['n']-1):\n",
    "                res.append(('v',i,j))\n",
    "\n",
    "    return res"
   ]
  },
  {
   "cell_type": "markdown",
   "metadata": {},
   "source": [
    "Implement an agent that plays randomly. Make sure the agent function receives as the percept the board and returns a valid action. Use an agent function definition with the following signature (arguments):\n",
    "\n",
    "`def random_player(board, player = None): ...`\n",
    "\n",
    "The argument `player` is used for agents that do not store what side they are playing. The value passed on by the environment should be 1 ot -1 for playerred and yellow, respectively.  See [Experiments section for tic-tac-toe](https://nbviewer.org/github/mhahsler/CS7320-AI/blob/master/Games/tictactoe_and_or_tree_search.ipynb#Experiments) for an example."
   ]
  },
  {
   "cell_type": "code",
   "execution_count": 324,
   "metadata": {},
   "outputs": [],
   "source": [
    "# Your code/ answer goes here.\n",
    "def random_player(board, player=None):\n",
    "    possible_actions = actions(board)\n",
    "    return possible_actions[np.random.choice(len(possible_actions),1)[0]]"
   ]
  },
  {
   "cell_type": "markdown",
   "metadata": {},
   "source": [
    "Let two random agents play against each other 1000 times. Look at the [Experiments section for tic-tac-toe](https://nbviewer.org/github/mhahsler/CS7320-AI/blob/master/Games/tictactoe_and_or_tree_search.ipynb#Experiments) to see how the environment uses the agent functions to play against each other.\n",
    "\n",
    "How often does each player win? Is the result expected?"
   ]
  },
  {
   "cell_type": "code",
   "execution_count": 329,
   "metadata": {
    "tags": []
   },
   "outputs": [],
   "source": [
    "def switch_player(player, pfun1, pfun2):\n",
    "    if player == 1:\n",
    "        return -1, pfun2\n",
    "    elif player == -1:\n",
    "        return 1, pfun1\n",
    "\n",
    "# Your code/ answer goes here.\n",
    "def play(pfun1, pfun2, N = 1, show_final_board = False):\n",
    "    \"\"\"Let two agents play each other N times. red starts. red and yellow are agent functions that \n",
    "    get the board as the percept and return their next action.\n",
    "    \n",
    "    Code Adopted and modified from tictactoe_interactive.ipynb.\n",
    "    \"\"\"\n",
    "    results = {1: 0, -1: 0, 0: 0}\n",
    "    \n",
    "    for i in range(N):\n",
    "        board = empty_board()\n",
    "        player, fun = 1, pfun1\n",
    "        \n",
    "        while True:\n",
    "            action = fun(board, player)\n",
    "            board = result(board, action[0], action[1], action[2], player)\n",
    "            win = check_win(board)   # returns the 'n' if the game is not done.\n",
    "            if win != 0:\n",
    "                results[win] += 1\n",
    "                if show_final_board: \n",
    "                    print(\"Final board:\")\n",
    "                    show_board(board)\n",
    "                break\n",
    "\n",
    "            if check_board_full(board):\n",
    "                results[0] += 1\n",
    "                break\n",
    "            \n",
    "            player, fun = switch_player(player, pfun1, pfun2)   \n",
    "    \n",
    "    return results"
   ]
  },
  {
   "cell_type": "code",
   "execution_count": 332,
   "metadata": {},
   "outputs": [
    {
     "name": "stdout",
     "output_type": "stream",
     "text": [
      "Final board:\n"
     ]
    },
    {
     "data": {
      "image/png": "[encoded data removed]",
      "text/plain": [
       "<Figure size 432x288 with 1 Axes>"
      ]
     },
     "metadata": {
      "needs_background": "light"
     },
     "output_type": "display_data"
    },
    {
     "name": "stdout",
     "output_type": "stream",
     "text": [
      "Final board:\n"
     ]
    },
    {
     "data": {
      "image/png": "[encoded data removed]",
      "text/plain": [
       "<Figure size 432x288 with 1 Axes>"
      ]
     },
     "metadata": {
      "needs_background": "light"
     },
     "output_type": "display_data"
    },
    {
     "name": "stdout",
     "output_type": "stream",
     "text": [
      "Final board:\n"
     ]
    },
    {
     "data": {
      "image/png": "[encoded data removed]",
      "text/plain": [
       "<Figure size 432x288 with 1 Axes>"
      ]
     },
     "metadata": {
      "needs_background": "light"
     },
     "output_type": "display_data"
    },
    {
     "name": "stdout",
     "output_type": "stream",
     "text": [
      "Final board:\n"
     ]
    },
    {
     "data": {
      "image/png": "[encoded data removed]",
      "text/plain": [
       "<Figure size 432x288 with 1 Axes>"
      ]
     },
     "metadata": {
      "needs_background": "light"
     },
     "output_type": "display_data"
    },
    {
     "name": "stdout",
     "output_type": "stream",
     "text": [
      "Final board:\n"
     ]
    },
    {
     "data": {
      "image/png": "[encoded data removed]",
      "text/plain": [
       "<Figure size 432x288 with 1 Axes>"
      ]
     },
     "metadata": {
      "needs_background": "light"
     },
     "output_type": "display_data"
    }
   ],
   "source": [
    "# Demo of the two random players playing. Final board printed for 5 games.\n",
    "results = play(random_player, random_player, N=5, show_final_board=True)"
   ]
  },
  {
   "cell_type": "code",
   "execution_count": 339,
   "metadata": {},
   "outputs": [
    {
     "name": "stdout",
     "output_type": "stream",
     "text": [
      "Blue (1): 347\n",
      "Red (-1): 653\n",
      "Draws (0): 0\n"
     ]
    }
   ],
   "source": [
    "# Run the game 1000 times and display the results.\n",
    "results = play(random_player, random_player, N=1000, show_final_board=False)\n",
    "print(\"Blue (1):\",results[1])\n",
    "print(\"Red (-1):\",results[-1])\n",
    "print(\"Draws (0):\",results[0])"
   ]
  },
  {
   "cell_type": "markdown",
   "metadata": {},
   "source": [
    "## Task 3: Minimax Search with Alpha-Beta Pruning [30 points]\n",
    "\n",
    "### Implement the search starting.\n",
    "\n",
    "Implement the search starting from a given board and specifying the player and put it into an agent function.\n",
    "You can use code from the [tic-tac-toe example](https://nbviewer.org/github/mhahsler/CS7320-AI/blob/master/Games/tictactoe_alpha_beta_tree_search.ipynb).\n",
    "\n",
    "__Notes:__ \n",
    "* Make sure that all your agent functions have a signature consistent with the random agent above.\n",
    "* The search space for larger board may be too large. You can experiment with smaller boards."
   ]
  },
  {
   "cell_type": "code",
   "execution_count": 312,
   "metadata": {},
   "outputs": [],
   "source": [
    "# Your code/ answer goes here."
   ]
  },
  {
   "cell_type": "markdown",
   "metadata": {},
   "source": [
    "Experiment with some manually created boards (at least 5) to check if the agent spots winning opportunities."
   ]
  },
  {
   "cell_type": "code",
   "execution_count": 10,
   "metadata": {},
   "outputs": [],
   "source": [
    "# Your code/ answer goes here."
   ]
  },
  {
   "cell_type": "markdown",
   "metadata": {},
   "source": [
    "How long does it take to make a move? Start with a smaller board make the board larger. What is the largest board you can solve?"
   ]
  },
  {
   "cell_type": "code",
   "execution_count": 11,
   "metadata": {},
   "outputs": [],
   "source": [
    "# Your code/ answer goes here."
   ]
  },
  {
   "cell_type": "markdown",
   "metadata": {},
   "source": [
    "### Move ordering\n",
    "\n",
    "Starting the search with better moves will increase the efficiency of alpha-beta pruning. Describe and implement a simple move ordering strategy. Make a table that shows how the ordering strategies influence the time it takes to make a move?"
   ]
  },
  {
   "cell_type": "code",
   "execution_count": 12,
   "metadata": {},
   "outputs": [],
   "source": [
    "# Your code/ answer goes here."
   ]
  },
  {
   "cell_type": "markdown",
   "metadata": {},
   "source": [
    "### The first few moves\n",
    "\n",
    "Start with an empty board. This is the worst case scenario for minimax search with alpha-beta pruning since it needs solve all possible games that can be played (minus some pruning) before making the decision. What can you do? "
   ]
  },
  {
   "cell_type": "code",
   "execution_count": 13,
   "metadata": {},
   "outputs": [],
   "source": [
    "# Your code/ answer goes here."
   ]
  },
  {
   "cell_type": "markdown",
   "metadata": {},
   "source": [
    "### Playtime\n",
    "\n",
    "Let the Minimax Search agent play a random agent on a small board. Analyze wins, losses and draws."
   ]
  },
  {
   "cell_type": "code",
   "execution_count": 14,
   "metadata": {},
   "outputs": [],
   "source": [
    "# Your code/ answer goes here."
   ]
  },
  {
   "cell_type": "markdown",
   "metadata": {},
   "source": [
    "## Task 4: Heuristic Alpha-Beta Tree Search [30 points] \n",
    "\n",
    "### Heuristic evaluation function\n",
    "\n",
    "Define and implement a heuristic evaluation function."
   ]
  },
  {
   "cell_type": "code",
   "execution_count": 15,
   "metadata": {},
   "outputs": [],
   "source": [
    "# Your code/ answer goes here."
   ]
  },
  {
   "cell_type": "markdown",
   "metadata": {},
   "source": [
    "### Cutting off search \n",
    "\n",
    "Modify your Minimax Search with Alpha-Beta Pruning to cut off search at a specified depth and use the heuristic evaluation function. Experiment with different cutoff values."
   ]
  },
  {
   "cell_type": "code",
   "execution_count": 16,
   "metadata": {},
   "outputs": [],
   "source": [
    "# Your code/ answer goes here."
   ]
  },
  {
   "cell_type": "markdown",
   "metadata": {},
   "source": [
    "Experiment with the same manually created boards as above to check if the agent spots winning opportunities."
   ]
  },
  {
   "cell_type": "code",
   "execution_count": 17,
   "metadata": {},
   "outputs": [],
   "source": [
    "# Your code/ answer goes here."
   ]
  },
  {
   "cell_type": "markdown",
   "metadata": {},
   "source": [
    "How long does it take to make a move? Start with a smaller board with 4 columns and make the board larger by adding columns."
   ]
  },
  {
   "cell_type": "code",
   "execution_count": 18,
   "metadata": {},
   "outputs": [],
   "source": [
    "# Your code/ answer goes here."
   ]
  },
  {
   "cell_type": "markdown",
   "metadata": {},
   "source": [
    "### Playtime\n",
    "\n",
    "Let two heuristic search agents (different cutoff depth, different heuristic evaluation function) compete against each other on a reasonably sized board. Since there is no randomness, you only need to let them play once."
   ]
  },
  {
   "cell_type": "code",
   "execution_count": 19,
   "metadata": {},
   "outputs": [],
   "source": [
    "# Your code/ answer goes here."
   ]
  },
  {
   "cell_type": "markdown",
   "metadata": {},
   "source": [
    "## Tournament task [+1 to 5% bonus on your course grade; will be assigned separately]\n",
    "\n",
    "Find another student and let your best agent play against the other student's best player. You are allowed to use any improvements you like as long as you code it yourself. We will set up a class tournament on Canvas. This tournament will continue after the submission deadline."
   ]
  },
  {
   "cell_type": "markdown",
   "metadata": {},
   "source": [
    "## Graduate student advanced task: Pure Monte Carlo Search and Best First Move [10 point]\n",
    "\n",
    "__Undergraduate students:__ This is a bonus task you can attempt if you like [+5 Bonus point].\n",
    "\n",
    "### Pure Monte Carlo Search\n",
    "\n",
    "Implement Pure Monte Carlo Search (see [tic-tac-toe-example](https://nbviewer.org/github/mhahsler/CS7320-AI/blob/master/Games/tictactoe_pure_monte_carlo_search.ipynb)) and investigate how this search performs on the test boards that you have used above. "
   ]
  },
  {
   "cell_type": "code",
   "execution_count": 20,
   "metadata": {},
   "outputs": [],
   "source": [
    "# Your code/ answer goes here."
   ]
  },
  {
   "cell_type": "markdown",
   "metadata": {},
   "source": [
    "### Best First Move\n",
    "\n",
    "How would you determine what the best first move for a standard board ($5 \\times 5$) is? You can use Pure Monte Carlo Search or any algorithms that you have implemented above."
   ]
  },
  {
   "cell_type": "code",
   "execution_count": 21,
   "metadata": {},
   "outputs": [],
   "source": [
    "# Your code/ answer goes here."
   ]
  }
 ],
 "metadata": {
  "kernelspec": {
   "display_name": "Python 3 (ipykernel)",
   "language": "python",
   "name": "python3"
  },
  "language_info": {
   "codemirror_mode": {
    "name": "ipython",
    "version": 3
   },
   "file_extension": ".py",
   "mimetype": "text/x-python",
   "name": "python",
   "nbconvert_exporter": "python",
   "pygments_lexer": "ipython3",
   "version": "3.7.11"
  }
 },
 "nbformat": 4,
 "nbformat_minor": 4
}
